{
 "cells": [
  {
   "cell_type": "code",
   "execution_count": 1,
   "id": "fed284a8",
   "metadata": {
    "_cell_guid": "b1076dfc-b9ad-4769-8c92-a6c4dae69d19",
    "_uuid": "8f2839f25d086af736a60e9eeb907d3b93b6e0e5",
    "execution": {
     "iopub.execute_input": "2024-03-06T22:43:10.335995Z",
     "iopub.status.busy": "2024-03-06T22:43:10.335340Z",
     "iopub.status.idle": "2024-03-06T22:43:11.273574Z",
     "shell.execute_reply": "2024-03-06T22:43:11.272495Z"
    },
    "papermill": {
     "duration": 0.955261,
     "end_time": "2024-03-06T22:43:11.276191",
     "exception": false,
     "start_time": "2024-03-06T22:43:10.320930",
     "status": "completed"
    },
    "tags": []
   },
   "outputs": [
    {
     "name": "stdout",
     "output_type": "stream",
     "text": [
      "/kaggle/input/financial-performance-prediction/sample_submission.csv\n",
      "/kaggle/input/financial-performance-prediction/data_dictionary.txt\n",
      "/kaggle/input/financial-performance-prediction/train.csv\n",
      "/kaggle/input/financial-performance-prediction/test.csv\n"
     ]
    }
   ],
   "source": [
    "# This Python 3 environment comes with many helpful analytics libraries installed\n",
    "# It is defined by the kaggle/python Docker image: https://github.com/kaggle/docker-python\n",
    "# For example, here's several helpful packages to load\n",
    "\n",
    "import numpy as np # linear algebra\n",
    "import pandas as pd # data processing, CSV file I/O (e.g. pd.read_csv)\n",
    "\n",
    "# Input data files are available in the read-only \"../input/\" directory\n",
    "# For example, running this (by clicking run or pressing Shift+Enter) will list all files under the input directory\n",
    "\n",
    "import os\n",
    "for dirname, _, filenames in os.walk('/kaggle/input'):\n",
    "    for filename in filenames:\n",
    "        print(os.path.join(dirname, filename))\n",
    "\n",
    "# You can write up to 20GB to the current directory (/kaggle/working/) that gets preserved as output when you create a version using \"Save & Run All\" \n",
    "# You can also write temporary files to /kaggle/temp/, but they won't be saved outside of the current session"
   ]
  },
  {
   "cell_type": "code",
   "execution_count": 2,
   "id": "5e05f3bf",
   "metadata": {
    "execution": {
     "iopub.execute_input": "2024-03-06T22:43:11.302791Z",
     "iopub.status.busy": "2024-03-06T22:43:11.302275Z",
     "iopub.status.idle": "2024-03-06T22:43:12.844597Z",
     "shell.execute_reply": "2024-03-06T22:43:12.843386Z"
    },
    "papermill": {
     "duration": 1.559017,
     "end_time": "2024-03-06T22:43:12.847451",
     "exception": false,
     "start_time": "2024-03-06T22:43:11.288434",
     "status": "completed"
    },
    "tags": []
   },
   "outputs": [],
   "source": [
    "#IMPORTING BASIC LIBRARIES\n",
    "import numpy as np\n",
    "import pandas as pd\n",
    "import matplotlib.pyplot as plt\n",
    "%matplotlib inline\n",
    "import seaborn as sns\n",
    "import warnings\n",
    "warnings.filterwarnings(\"ignore\")"
   ]
  },
  {
   "cell_type": "code",
   "execution_count": 3,
   "id": "59a697cf",
   "metadata": {
    "execution": {
     "iopub.execute_input": "2024-03-06T22:43:12.874104Z",
     "iopub.status.busy": "2024-03-06T22:43:12.873672Z",
     "iopub.status.idle": "2024-03-06T22:43:13.075708Z",
     "shell.execute_reply": "2024-03-06T22:43:13.074553Z"
    },
    "papermill": {
     "duration": 0.218315,
     "end_time": "2024-03-06T22:43:13.078670",
     "exception": false,
     "start_time": "2024-03-06T22:43:12.860355",
     "status": "completed"
    },
    "tags": []
   },
   "outputs": [],
   "source": [
    "#LOADING TRAIN AND TEST DATAFILES\n",
    "train = pd.read_csv('/kaggle/input/financial-performance-prediction/train.csv')\n",
    "test = pd.read_csv('/kaggle/input/financial-performance-prediction/test.csv')"
   ]
  },
  {
   "cell_type": "code",
   "execution_count": 4,
   "id": "cddd329d",
   "metadata": {
    "execution": {
     "iopub.execute_input": "2024-03-06T22:43:13.105167Z",
     "iopub.status.busy": "2024-03-06T22:43:13.104763Z",
     "iopub.status.idle": "2024-03-06T22:43:13.110689Z",
     "shell.execute_reply": "2024-03-06T22:43:13.109294Z"
    },
    "papermill": {
     "duration": 0.022446,
     "end_time": "2024-03-06T22:43:13.113542",
     "exception": false,
     "start_time": "2024-03-06T22:43:13.091096",
     "status": "completed"
    },
    "tags": []
   },
   "outputs": [
    {
     "name": "stdout",
     "output_type": "stream",
     "text": [
      "Train shape: (1624, 212)\n",
      "Test shape: (406, 203)\n"
     ]
    }
   ],
   "source": [
    "print(f'Train shape: {train.shape}') #TRAIN DATA : 1624 ROWS AND 212 COLPUMNS\n",
    "print(f'Test shape: {test.shape}') #TEST DATA : 406 ROWS AND 203 COLPUMNS"
   ]
  },
  {
   "cell_type": "code",
   "execution_count": 5,
   "id": "1204b4dc",
   "metadata": {
    "execution": {
     "iopub.execute_input": "2024-03-06T22:43:13.139591Z",
     "iopub.status.busy": "2024-03-06T22:43:13.139196Z",
     "iopub.status.idle": "2024-03-06T22:43:13.186193Z",
     "shell.execute_reply": "2024-03-06T22:43:13.185093Z"
    },
    "papermill": {
     "duration": 0.063068,
     "end_time": "2024-03-06T22:43:13.188774",
     "exception": false,
     "start_time": "2024-03-06T22:43:13.125706",
     "status": "completed"
    },
    "tags": []
   },
   "outputs": [
    {
     "data": {
      "text/html": [
       "<div>\n",
       "<style scoped>\n",
       "    .dataframe tbody tr th:only-of-type {\n",
       "        vertical-align: middle;\n",
       "    }\n",
       "\n",
       "    .dataframe tbody tr th {\n",
       "        vertical-align: top;\n",
       "    }\n",
       "\n",
       "    .dataframe thead th {\n",
       "        text-align: right;\n",
       "    }\n",
       "</style>\n",
       "<table border=\"1\" class=\"dataframe\">\n",
       "  <thead>\n",
       "    <tr style=\"text-align: right;\">\n",
       "      <th></th>\n",
       "      <th>Id</th>\n",
       "      <th>industry</th>\n",
       "      <th>sector</th>\n",
       "      <th>fullTimeEmployees</th>\n",
       "      <th>auditRisk</th>\n",
       "      <th>boardRisk</th>\n",
       "      <th>compensationRisk</th>\n",
       "      <th>shareHolderRightsRisk</th>\n",
       "      <th>overallRisk</th>\n",
       "      <th>trailingPE</th>\n",
       "      <th>...</th>\n",
       "      <th>Q10_TOTAL_STOCKHOLDERS_EQUITY</th>\n",
       "      <th>Q10_NET_INCOME</th>\n",
       "      <th>Q10_GROSS_PROFIT</th>\n",
       "      <th>Q10_COST_OF_REVENUES</th>\n",
       "      <th>Q10_REVENUES</th>\n",
       "      <th>Q10_OPERATING_INCOME</th>\n",
       "      <th>Q10_OPERATING_EXPENSES</th>\n",
       "      <th>Q10_EBITDA</th>\n",
       "      <th>Q10_DEPRECIATION_AND_AMORTIZATION</th>\n",
       "      <th>Q10_fiscal_year_end</th>\n",
       "    </tr>\n",
       "  </thead>\n",
       "  <tbody>\n",
       "    <tr>\n",
       "      <th>1619</th>\n",
       "      <td>1916</td>\n",
       "      <td>Engineering &amp; Construction</td>\n",
       "      <td>Industrials</td>\n",
       "      <td>1600.0</td>\n",
       "      <td>8.0</td>\n",
       "      <td>8.0</td>\n",
       "      <td>6.0</td>\n",
       "      <td>8.0</td>\n",
       "      <td>7.0</td>\n",
       "      <td>310.800000</td>\n",
       "      <td>...</td>\n",
       "      <td>1.838300e+07</td>\n",
       "      <td>981000.0</td>\n",
       "      <td>15646000.0</td>\n",
       "      <td>16156000.0</td>\n",
       "      <td>31802000.0</td>\n",
       "      <td>1495000.0</td>\n",
       "      <td>14151000.0</td>\n",
       "      <td>1495000.0</td>\n",
       "      <td>0.0</td>\n",
       "      <td>0.0</td>\n",
       "    </tr>\n",
       "    <tr>\n",
       "      <th>1620</th>\n",
       "      <td>1162</td>\n",
       "      <td>Biotechnology</td>\n",
       "      <td>Healthcare</td>\n",
       "      <td>70.0</td>\n",
       "      <td>2.0</td>\n",
       "      <td>7.0</td>\n",
       "      <td>6.0</td>\n",
       "      <td>2.0</td>\n",
       "      <td>4.0</td>\n",
       "      <td>NaN</td>\n",
       "      <td>...</td>\n",
       "      <td>1.176740e+08</td>\n",
       "      <td>-1416000.0</td>\n",
       "      <td>279000.0</td>\n",
       "      <td>112000.0</td>\n",
       "      <td>391000.0</td>\n",
       "      <td>-7050000.0</td>\n",
       "      <td>7329000.0</td>\n",
       "      <td>-7050000.0</td>\n",
       "      <td>0.0</td>\n",
       "      <td>0.0</td>\n",
       "    </tr>\n",
       "    <tr>\n",
       "      <th>1621</th>\n",
       "      <td>629</td>\n",
       "      <td>Medical Care Facilities</td>\n",
       "      <td>Healthcare</td>\n",
       "      <td>5335.0</td>\n",
       "      <td>8.0</td>\n",
       "      <td>7.0</td>\n",
       "      <td>6.0</td>\n",
       "      <td>2.0</td>\n",
       "      <td>5.0</td>\n",
       "      <td>36.952385</td>\n",
       "      <td>...</td>\n",
       "      <td>3.226923e+08</td>\n",
       "      <td>950000.0</td>\n",
       "      <td>22041000.0</td>\n",
       "      <td>83622000.0</td>\n",
       "      <td>105663000.0</td>\n",
       "      <td>1613000.0</td>\n",
       "      <td>104050000.0</td>\n",
       "      <td>-82009000.0</td>\n",
       "      <td>-83622000.0</td>\n",
       "      <td>0.0</td>\n",
       "    </tr>\n",
       "    <tr>\n",
       "      <th>1622</th>\n",
       "      <td>1841</td>\n",
       "      <td>Biotechnology</td>\n",
       "      <td>Healthcare</td>\n",
       "      <td>129.0</td>\n",
       "      <td>7.0</td>\n",
       "      <td>6.0</td>\n",
       "      <td>8.0</td>\n",
       "      <td>8.0</td>\n",
       "      <td>7.0</td>\n",
       "      <td>NaN</td>\n",
       "      <td>...</td>\n",
       "      <td>9.164100e+07</td>\n",
       "      <td>-16514000.0</td>\n",
       "      <td>1222000.0</td>\n",
       "      <td>0.0</td>\n",
       "      <td>1222000.0</td>\n",
       "      <td>-16561000.0</td>\n",
       "      <td>17783000.0</td>\n",
       "      <td>-16561000.0</td>\n",
       "      <td>0.0</td>\n",
       "      <td>0.0</td>\n",
       "    </tr>\n",
       "    <tr>\n",
       "      <th>1623</th>\n",
       "      <td>1179</td>\n",
       "      <td>Resorts &amp; Casinos</td>\n",
       "      <td>Consumer Cyclical</td>\n",
       "      <td>27000.0</td>\n",
       "      <td>8.0</td>\n",
       "      <td>3.0</td>\n",
       "      <td>10.0</td>\n",
       "      <td>10.0</td>\n",
       "      <td>9.0</td>\n",
       "      <td>336.750000</td>\n",
       "      <td>...</td>\n",
       "      <td>2.336830e+08</td>\n",
       "      <td>-280978000.0</td>\n",
       "      <td>164252000.0</td>\n",
       "      <td>351966000.0</td>\n",
       "      <td>516218000.0</td>\n",
       "      <td>-175732000.0</td>\n",
       "      <td>179774000.0</td>\n",
       "      <td>-15522000.0</td>\n",
       "      <td>160210000.0</td>\n",
       "      <td>0.0</td>\n",
       "    </tr>\n",
       "  </tbody>\n",
       "</table>\n",
       "<p>5 rows × 212 columns</p>\n",
       "</div>"
      ],
      "text/plain": [
       "        Id                    industry             sector  fullTimeEmployees  \\\n",
       "1619  1916  Engineering & Construction        Industrials             1600.0   \n",
       "1620  1162               Biotechnology         Healthcare               70.0   \n",
       "1621   629     Medical Care Facilities         Healthcare             5335.0   \n",
       "1622  1841               Biotechnology         Healthcare              129.0   \n",
       "1623  1179           Resorts & Casinos  Consumer Cyclical            27000.0   \n",
       "\n",
       "      auditRisk  boardRisk  compensationRisk  shareHolderRightsRisk  \\\n",
       "1619        8.0        8.0               6.0                    8.0   \n",
       "1620        2.0        7.0               6.0                    2.0   \n",
       "1621        8.0        7.0               6.0                    2.0   \n",
       "1622        7.0        6.0               8.0                    8.0   \n",
       "1623        8.0        3.0              10.0                   10.0   \n",
       "\n",
       "      overallRisk  trailingPE  ...  Q10_TOTAL_STOCKHOLDERS_EQUITY  \\\n",
       "1619          7.0  310.800000  ...                   1.838300e+07   \n",
       "1620          4.0         NaN  ...                   1.176740e+08   \n",
       "1621          5.0   36.952385  ...                   3.226923e+08   \n",
       "1622          7.0         NaN  ...                   9.164100e+07   \n",
       "1623          9.0  336.750000  ...                   2.336830e+08   \n",
       "\n",
       "      Q10_NET_INCOME  Q10_GROSS_PROFIT  Q10_COST_OF_REVENUES  Q10_REVENUES  \\\n",
       "1619        981000.0        15646000.0            16156000.0    31802000.0   \n",
       "1620      -1416000.0          279000.0              112000.0      391000.0   \n",
       "1621        950000.0        22041000.0            83622000.0   105663000.0   \n",
       "1622     -16514000.0         1222000.0                   0.0     1222000.0   \n",
       "1623    -280978000.0       164252000.0           351966000.0   516218000.0   \n",
       "\n",
       "      Q10_OPERATING_INCOME  Q10_OPERATING_EXPENSES  Q10_EBITDA  \\\n",
       "1619             1495000.0              14151000.0   1495000.0   \n",
       "1620            -7050000.0               7329000.0  -7050000.0   \n",
       "1621             1613000.0             104050000.0 -82009000.0   \n",
       "1622           -16561000.0              17783000.0 -16561000.0   \n",
       "1623          -175732000.0             179774000.0 -15522000.0   \n",
       "\n",
       "      Q10_DEPRECIATION_AND_AMORTIZATION  Q10_fiscal_year_end  \n",
       "1619                                0.0                  0.0  \n",
       "1620                                0.0                  0.0  \n",
       "1621                        -83622000.0                  0.0  \n",
       "1622                                0.0                  0.0  \n",
       "1623                        160210000.0                  0.0  \n",
       "\n",
       "[5 rows x 212 columns]"
      ]
     },
     "execution_count": 5,
     "metadata": {},
     "output_type": "execute_result"
    }
   ],
   "source": [
    "train.tail()"
   ]
  },
  {
   "cell_type": "code",
   "execution_count": 6,
   "id": "0ddf5514",
   "metadata": {
    "execution": {
     "iopub.execute_input": "2024-03-06T22:43:13.216407Z",
     "iopub.status.busy": "2024-03-06T22:43:13.215427Z",
     "iopub.status.idle": "2024-03-06T22:43:13.248087Z",
     "shell.execute_reply": "2024-03-06T22:43:13.246955Z"
    },
    "papermill": {
     "duration": 0.049354,
     "end_time": "2024-03-06T22:43:13.250748",
     "exception": false,
     "start_time": "2024-03-06T22:43:13.201394",
     "status": "completed"
    },
    "tags": []
   },
   "outputs": [
    {
     "data": {
      "text/html": [
       "<div>\n",
       "<style scoped>\n",
       "    .dataframe tbody tr th:only-of-type {\n",
       "        vertical-align: middle;\n",
       "    }\n",
       "\n",
       "    .dataframe tbody tr th {\n",
       "        vertical-align: top;\n",
       "    }\n",
       "\n",
       "    .dataframe thead th {\n",
       "        text-align: right;\n",
       "    }\n",
       "</style>\n",
       "<table border=\"1\" class=\"dataframe\">\n",
       "  <thead>\n",
       "    <tr style=\"text-align: right;\">\n",
       "      <th></th>\n",
       "      <th>Id</th>\n",
       "      <th>industry</th>\n",
       "      <th>sector</th>\n",
       "      <th>fullTimeEmployees</th>\n",
       "      <th>auditRisk</th>\n",
       "      <th>boardRisk</th>\n",
       "      <th>compensationRisk</th>\n",
       "      <th>shareHolderRightsRisk</th>\n",
       "      <th>overallRisk</th>\n",
       "      <th>trailingPE</th>\n",
       "      <th>...</th>\n",
       "      <th>Q10_TOTAL_STOCKHOLDERS_EQUITY</th>\n",
       "      <th>Q10_NET_INCOME</th>\n",
       "      <th>Q10_GROSS_PROFIT</th>\n",
       "      <th>Q10_COST_OF_REVENUES</th>\n",
       "      <th>Q10_REVENUES</th>\n",
       "      <th>Q10_OPERATING_INCOME</th>\n",
       "      <th>Q10_OPERATING_EXPENSES</th>\n",
       "      <th>Q10_EBITDA</th>\n",
       "      <th>Q10_DEPRECIATION_AND_AMORTIZATION</th>\n",
       "      <th>Q10_fiscal_year_end</th>\n",
       "    </tr>\n",
       "  </thead>\n",
       "  <tbody>\n",
       "    <tr>\n",
       "      <th>401</th>\n",
       "      <td>885</td>\n",
       "      <td>Packaged Foods</td>\n",
       "      <td>Consumer Defensive</td>\n",
       "      <td>14200.0</td>\n",
       "      <td>7.0</td>\n",
       "      <td>9.0</td>\n",
       "      <td>9.0</td>\n",
       "      <td>10.0</td>\n",
       "      <td>10.0</td>\n",
       "      <td>27.408330</td>\n",
       "      <td>...</td>\n",
       "      <td>4.149500e+09</td>\n",
       "      <td>161800000.0</td>\n",
       "      <td>577500000.0</td>\n",
       "      <td>904000000.0</td>\n",
       "      <td>1.481500e+09</td>\n",
       "      <td>236300000.0</td>\n",
       "      <td>321300000.0</td>\n",
       "      <td>256200000.0</td>\n",
       "      <td>19900000.0</td>\n",
       "      <td>0.0</td>\n",
       "    </tr>\n",
       "    <tr>\n",
       "      <th>402</th>\n",
       "      <td>385</td>\n",
       "      <td>NaN</td>\n",
       "      <td>Unknown</td>\n",
       "      <td>NaN</td>\n",
       "      <td>NaN</td>\n",
       "      <td>NaN</td>\n",
       "      <td>NaN</td>\n",
       "      <td>NaN</td>\n",
       "      <td>NaN</td>\n",
       "      <td>NaN</td>\n",
       "      <td>...</td>\n",
       "      <td>6.060000e+06</td>\n",
       "      <td>-24889000.0</td>\n",
       "      <td>54651000.0</td>\n",
       "      <td>87294000.0</td>\n",
       "      <td>1.379300e+08</td>\n",
       "      <td>-14397000.0</td>\n",
       "      <td>69048000.0</td>\n",
       "      <td>-14397000.0</td>\n",
       "      <td>0.0</td>\n",
       "      <td>0.0</td>\n",
       "    </tr>\n",
       "    <tr>\n",
       "      <th>403</th>\n",
       "      <td>711</td>\n",
       "      <td>Medical Devices</td>\n",
       "      <td>Healthcare</td>\n",
       "      <td>173.0</td>\n",
       "      <td>6.0</td>\n",
       "      <td>5.0</td>\n",
       "      <td>9.0</td>\n",
       "      <td>8.0</td>\n",
       "      <td>7.0</td>\n",
       "      <td>NaN</td>\n",
       "      <td>...</td>\n",
       "      <td>3.096200e+07</td>\n",
       "      <td>-7220000.0</td>\n",
       "      <td>2200000.0</td>\n",
       "      <td>1450000.0</td>\n",
       "      <td>3.726000e+06</td>\n",
       "      <td>-6499000.0</td>\n",
       "      <td>8699000.0</td>\n",
       "      <td>-6499000.0</td>\n",
       "      <td>0.0</td>\n",
       "      <td>0.0</td>\n",
       "    </tr>\n",
       "    <tr>\n",
       "      <th>404</th>\n",
       "      <td>272</td>\n",
       "      <td>Drug Manufacturers - Specialty &amp; Generic</td>\n",
       "      <td>Healthcare</td>\n",
       "      <td>1030.0</td>\n",
       "      <td>10.0</td>\n",
       "      <td>9.0</td>\n",
       "      <td>10.0</td>\n",
       "      <td>4.0</td>\n",
       "      <td>9.0</td>\n",
       "      <td>35.500000</td>\n",
       "      <td>...</td>\n",
       "      <td>1.572920e+08</td>\n",
       "      <td>9943000.0</td>\n",
       "      <td>77057000.0</td>\n",
       "      <td>25495000.0</td>\n",
       "      <td>1.025520e+08</td>\n",
       "      <td>12616000.0</td>\n",
       "      <td>64441000.0</td>\n",
       "      <td>12616000.0</td>\n",
       "      <td>0.0</td>\n",
       "      <td>0.0</td>\n",
       "    </tr>\n",
       "    <tr>\n",
       "      <th>405</th>\n",
       "      <td>1892</td>\n",
       "      <td>Specialty Chemicals</td>\n",
       "      <td>Basic Materials</td>\n",
       "      <td>12000.0</td>\n",
       "      <td>4.0</td>\n",
       "      <td>2.0</td>\n",
       "      <td>2.0</td>\n",
       "      <td>1.0</td>\n",
       "      <td>1.0</td>\n",
       "      <td>30.345795</td>\n",
       "      <td>...</td>\n",
       "      <td>1.359400e+09</td>\n",
       "      <td>15200000.0</td>\n",
       "      <td>379100000.0</td>\n",
       "      <td>684500000.0</td>\n",
       "      <td>1.063600e+09</td>\n",
       "      <td>52600000.0</td>\n",
       "      <td>179100000.0</td>\n",
       "      <td>200000000.0</td>\n",
       "      <td>147400000.0</td>\n",
       "      <td>0.0</td>\n",
       "    </tr>\n",
       "  </tbody>\n",
       "</table>\n",
       "<p>5 rows × 203 columns</p>\n",
       "</div>"
      ],
      "text/plain": [
       "       Id                                  industry              sector  \\\n",
       "401   885                            Packaged Foods  Consumer Defensive   \n",
       "402   385                                       NaN             Unknown   \n",
       "403   711                           Medical Devices          Healthcare   \n",
       "404   272  Drug Manufacturers - Specialty & Generic          Healthcare   \n",
       "405  1892                       Specialty Chemicals     Basic Materials   \n",
       "\n",
       "     fullTimeEmployees  auditRisk  boardRisk  compensationRisk  \\\n",
       "401            14200.0        7.0        9.0               9.0   \n",
       "402                NaN        NaN        NaN               NaN   \n",
       "403              173.0        6.0        5.0               9.0   \n",
       "404             1030.0       10.0        9.0              10.0   \n",
       "405            12000.0        4.0        2.0               2.0   \n",
       "\n",
       "     shareHolderRightsRisk  overallRisk  trailingPE  ...  \\\n",
       "401                   10.0         10.0   27.408330  ...   \n",
       "402                    NaN          NaN         NaN  ...   \n",
       "403                    8.0          7.0         NaN  ...   \n",
       "404                    4.0          9.0   35.500000  ...   \n",
       "405                    1.0          1.0   30.345795  ...   \n",
       "\n",
       "     Q10_TOTAL_STOCKHOLDERS_EQUITY  Q10_NET_INCOME  Q10_GROSS_PROFIT  \\\n",
       "401                   4.149500e+09     161800000.0       577500000.0   \n",
       "402                   6.060000e+06     -24889000.0        54651000.0   \n",
       "403                   3.096200e+07      -7220000.0         2200000.0   \n",
       "404                   1.572920e+08       9943000.0        77057000.0   \n",
       "405                   1.359400e+09      15200000.0       379100000.0   \n",
       "\n",
       "     Q10_COST_OF_REVENUES  Q10_REVENUES  Q10_OPERATING_INCOME  \\\n",
       "401           904000000.0  1.481500e+09           236300000.0   \n",
       "402            87294000.0  1.379300e+08           -14397000.0   \n",
       "403             1450000.0  3.726000e+06            -6499000.0   \n",
       "404            25495000.0  1.025520e+08            12616000.0   \n",
       "405           684500000.0  1.063600e+09            52600000.0   \n",
       "\n",
       "     Q10_OPERATING_EXPENSES   Q10_EBITDA  Q10_DEPRECIATION_AND_AMORTIZATION  \\\n",
       "401             321300000.0  256200000.0                         19900000.0   \n",
       "402              69048000.0  -14397000.0                                0.0   \n",
       "403               8699000.0   -6499000.0                                0.0   \n",
       "404              64441000.0   12616000.0                                0.0   \n",
       "405             179100000.0  200000000.0                        147400000.0   \n",
       "\n",
       "     Q10_fiscal_year_end  \n",
       "401                  0.0  \n",
       "402                  0.0  \n",
       "403                  0.0  \n",
       "404                  0.0  \n",
       "405                  0.0  \n",
       "\n",
       "[5 rows x 203 columns]"
      ]
     },
     "execution_count": 6,
     "metadata": {},
     "output_type": "execute_result"
    }
   ],
   "source": [
    "test.tail()"
   ]
  },
  {
   "cell_type": "code",
   "execution_count": 7,
   "id": "0ac256a9",
   "metadata": {
    "execution": {
     "iopub.execute_input": "2024-03-06T22:43:13.279122Z",
     "iopub.status.busy": "2024-03-06T22:43:13.278342Z",
     "iopub.status.idle": "2024-03-06T22:43:13.285678Z",
     "shell.execute_reply": "2024-03-06T22:43:13.284396Z"
    },
    "papermill": {
     "duration": 0.024186,
     "end_time": "2024-03-06T22:43:13.288137",
     "exception": false,
     "start_time": "2024-03-06T22:43:13.263951",
     "status": "completed"
    },
    "tags": []
   },
   "outputs": [
    {
     "name": "stdout",
     "output_type": "stream",
     "text": [
      "Target columns: ['Q0_TOTAL_ASSETS', 'Q0_TOTAL_LIABILITIES', 'Q0_TOTAL_STOCKHOLDERS_EQUITY', 'Q0_GROSS_PROFIT', 'Q0_COST_OF_REVENUES', 'Q0_REVENUES', 'Q0_OPERATING_INCOME', 'Q0_OPERATING_EXPENSES', 'Q0_EBITDA']\n"
     ]
    }
   ],
   "source": [
    "#TARGET VARIABLES THAT ARE NOT PRESENT IN TESTING DATASET\n",
    "targets_names = [col for col in train if col not in test]\n",
    "print(f'Target columns: {targets_names}')"
   ]
  },
  {
   "cell_type": "code",
   "execution_count": 8,
   "id": "c964cfa4",
   "metadata": {
    "execution": {
     "iopub.execute_input": "2024-03-06T22:43:13.317960Z",
     "iopub.status.busy": "2024-03-06T22:43:13.317276Z",
     "iopub.status.idle": "2024-03-06T22:43:13.333754Z",
     "shell.execute_reply": "2024-03-06T22:43:13.332506Z"
    },
    "papermill": {
     "duration": 0.034023,
     "end_time": "2024-03-06T22:43:13.336719",
     "exception": false,
     "start_time": "2024-03-06T22:43:13.302696",
     "status": "completed"
    },
    "tags": []
   },
   "outputs": [],
   "source": [
    "train['is_train'] = True # \"IS_TRAIN\" = TRUE represents train data \n",
    "test['is_train'] = False # \"IS_TRAIN\" = FALSE represents test data \n",
    "df = pd.concat([train, test], axis = 0, ignore_index = True) # df is a dataset containing both train and test data now"
   ]
  },
  {
   "cell_type": "code",
   "execution_count": 9,
   "id": "1ec2b018",
   "metadata": {
    "execution": {
     "iopub.execute_input": "2024-03-06T22:43:13.365943Z",
     "iopub.status.busy": "2024-03-06T22:43:13.365538Z",
     "iopub.status.idle": "2024-03-06T22:43:13.399578Z",
     "shell.execute_reply": "2024-03-06T22:43:13.398356Z"
    },
    "papermill": {
     "duration": 0.051925,
     "end_time": "2024-03-06T22:43:13.402366",
     "exception": false,
     "start_time": "2024-03-06T22:43:13.350441",
     "status": "completed"
    },
    "tags": []
   },
   "outputs": [
    {
     "data": {
      "text/html": [
       "<div>\n",
       "<style scoped>\n",
       "    .dataframe tbody tr th:only-of-type {\n",
       "        vertical-align: middle;\n",
       "    }\n",
       "\n",
       "    .dataframe tbody tr th {\n",
       "        vertical-align: top;\n",
       "    }\n",
       "\n",
       "    .dataframe thead th {\n",
       "        text-align: right;\n",
       "    }\n",
       "</style>\n",
       "<table border=\"1\" class=\"dataframe\">\n",
       "  <thead>\n",
       "    <tr style=\"text-align: right;\">\n",
       "      <th></th>\n",
       "      <th>Id</th>\n",
       "      <th>industry</th>\n",
       "      <th>sector</th>\n",
       "      <th>fullTimeEmployees</th>\n",
       "      <th>auditRisk</th>\n",
       "      <th>boardRisk</th>\n",
       "      <th>compensationRisk</th>\n",
       "      <th>shareHolderRightsRisk</th>\n",
       "      <th>overallRisk</th>\n",
       "      <th>trailingPE</th>\n",
       "      <th>...</th>\n",
       "      <th>Q10_NET_INCOME</th>\n",
       "      <th>Q10_GROSS_PROFIT</th>\n",
       "      <th>Q10_COST_OF_REVENUES</th>\n",
       "      <th>Q10_REVENUES</th>\n",
       "      <th>Q10_OPERATING_INCOME</th>\n",
       "      <th>Q10_OPERATING_EXPENSES</th>\n",
       "      <th>Q10_EBITDA</th>\n",
       "      <th>Q10_DEPRECIATION_AND_AMORTIZATION</th>\n",
       "      <th>Q10_fiscal_year_end</th>\n",
       "      <th>is_train</th>\n",
       "    </tr>\n",
       "  </thead>\n",
       "  <tbody>\n",
       "    <tr>\n",
       "      <th>2025</th>\n",
       "      <td>885</td>\n",
       "      <td>Packaged Foods</td>\n",
       "      <td>Consumer Defensive</td>\n",
       "      <td>14200.0</td>\n",
       "      <td>7.0</td>\n",
       "      <td>9.0</td>\n",
       "      <td>9.0</td>\n",
       "      <td>10.0</td>\n",
       "      <td>10.0</td>\n",
       "      <td>27.408330</td>\n",
       "      <td>...</td>\n",
       "      <td>161800000.0</td>\n",
       "      <td>577500000.0</td>\n",
       "      <td>904000000.0</td>\n",
       "      <td>1.481500e+09</td>\n",
       "      <td>236300000.0</td>\n",
       "      <td>321300000.0</td>\n",
       "      <td>256200000.0</td>\n",
       "      <td>19900000.0</td>\n",
       "      <td>0.0</td>\n",
       "      <td>False</td>\n",
       "    </tr>\n",
       "    <tr>\n",
       "      <th>2026</th>\n",
       "      <td>385</td>\n",
       "      <td>NaN</td>\n",
       "      <td>Unknown</td>\n",
       "      <td>NaN</td>\n",
       "      <td>NaN</td>\n",
       "      <td>NaN</td>\n",
       "      <td>NaN</td>\n",
       "      <td>NaN</td>\n",
       "      <td>NaN</td>\n",
       "      <td>NaN</td>\n",
       "      <td>...</td>\n",
       "      <td>-24889000.0</td>\n",
       "      <td>54651000.0</td>\n",
       "      <td>87294000.0</td>\n",
       "      <td>1.379300e+08</td>\n",
       "      <td>-14397000.0</td>\n",
       "      <td>69048000.0</td>\n",
       "      <td>-14397000.0</td>\n",
       "      <td>0.0</td>\n",
       "      <td>0.0</td>\n",
       "      <td>False</td>\n",
       "    </tr>\n",
       "    <tr>\n",
       "      <th>2027</th>\n",
       "      <td>711</td>\n",
       "      <td>Medical Devices</td>\n",
       "      <td>Healthcare</td>\n",
       "      <td>173.0</td>\n",
       "      <td>6.0</td>\n",
       "      <td>5.0</td>\n",
       "      <td>9.0</td>\n",
       "      <td>8.0</td>\n",
       "      <td>7.0</td>\n",
       "      <td>NaN</td>\n",
       "      <td>...</td>\n",
       "      <td>-7220000.0</td>\n",
       "      <td>2200000.0</td>\n",
       "      <td>1450000.0</td>\n",
       "      <td>3.726000e+06</td>\n",
       "      <td>-6499000.0</td>\n",
       "      <td>8699000.0</td>\n",
       "      <td>-6499000.0</td>\n",
       "      <td>0.0</td>\n",
       "      <td>0.0</td>\n",
       "      <td>False</td>\n",
       "    </tr>\n",
       "    <tr>\n",
       "      <th>2028</th>\n",
       "      <td>272</td>\n",
       "      <td>Drug Manufacturers - Specialty &amp; Generic</td>\n",
       "      <td>Healthcare</td>\n",
       "      <td>1030.0</td>\n",
       "      <td>10.0</td>\n",
       "      <td>9.0</td>\n",
       "      <td>10.0</td>\n",
       "      <td>4.0</td>\n",
       "      <td>9.0</td>\n",
       "      <td>35.500000</td>\n",
       "      <td>...</td>\n",
       "      <td>9943000.0</td>\n",
       "      <td>77057000.0</td>\n",
       "      <td>25495000.0</td>\n",
       "      <td>1.025520e+08</td>\n",
       "      <td>12616000.0</td>\n",
       "      <td>64441000.0</td>\n",
       "      <td>12616000.0</td>\n",
       "      <td>0.0</td>\n",
       "      <td>0.0</td>\n",
       "      <td>False</td>\n",
       "    </tr>\n",
       "    <tr>\n",
       "      <th>2029</th>\n",
       "      <td>1892</td>\n",
       "      <td>Specialty Chemicals</td>\n",
       "      <td>Basic Materials</td>\n",
       "      <td>12000.0</td>\n",
       "      <td>4.0</td>\n",
       "      <td>2.0</td>\n",
       "      <td>2.0</td>\n",
       "      <td>1.0</td>\n",
       "      <td>1.0</td>\n",
       "      <td>30.345795</td>\n",
       "      <td>...</td>\n",
       "      <td>15200000.0</td>\n",
       "      <td>379100000.0</td>\n",
       "      <td>684500000.0</td>\n",
       "      <td>1.063600e+09</td>\n",
       "      <td>52600000.0</td>\n",
       "      <td>179100000.0</td>\n",
       "      <td>200000000.0</td>\n",
       "      <td>147400000.0</td>\n",
       "      <td>0.0</td>\n",
       "      <td>False</td>\n",
       "    </tr>\n",
       "  </tbody>\n",
       "</table>\n",
       "<p>5 rows × 213 columns</p>\n",
       "</div>"
      ],
      "text/plain": [
       "        Id                                  industry              sector  \\\n",
       "2025   885                            Packaged Foods  Consumer Defensive   \n",
       "2026   385                                       NaN             Unknown   \n",
       "2027   711                           Medical Devices          Healthcare   \n",
       "2028   272  Drug Manufacturers - Specialty & Generic          Healthcare   \n",
       "2029  1892                       Specialty Chemicals     Basic Materials   \n",
       "\n",
       "      fullTimeEmployees  auditRisk  boardRisk  compensationRisk  \\\n",
       "2025            14200.0        7.0        9.0               9.0   \n",
       "2026                NaN        NaN        NaN               NaN   \n",
       "2027              173.0        6.0        5.0               9.0   \n",
       "2028             1030.0       10.0        9.0              10.0   \n",
       "2029            12000.0        4.0        2.0               2.0   \n",
       "\n",
       "      shareHolderRightsRisk  overallRisk  trailingPE  ...  Q10_NET_INCOME  \\\n",
       "2025                   10.0         10.0   27.408330  ...     161800000.0   \n",
       "2026                    NaN          NaN         NaN  ...     -24889000.0   \n",
       "2027                    8.0          7.0         NaN  ...      -7220000.0   \n",
       "2028                    4.0          9.0   35.500000  ...       9943000.0   \n",
       "2029                    1.0          1.0   30.345795  ...      15200000.0   \n",
       "\n",
       "      Q10_GROSS_PROFIT  Q10_COST_OF_REVENUES  Q10_REVENUES  \\\n",
       "2025       577500000.0           904000000.0  1.481500e+09   \n",
       "2026        54651000.0            87294000.0  1.379300e+08   \n",
       "2027         2200000.0             1450000.0  3.726000e+06   \n",
       "2028        77057000.0            25495000.0  1.025520e+08   \n",
       "2029       379100000.0           684500000.0  1.063600e+09   \n",
       "\n",
       "      Q10_OPERATING_INCOME  Q10_OPERATING_EXPENSES   Q10_EBITDA  \\\n",
       "2025           236300000.0             321300000.0  256200000.0   \n",
       "2026           -14397000.0              69048000.0  -14397000.0   \n",
       "2027            -6499000.0               8699000.0   -6499000.0   \n",
       "2028            12616000.0              64441000.0   12616000.0   \n",
       "2029            52600000.0             179100000.0  200000000.0   \n",
       "\n",
       "      Q10_DEPRECIATION_AND_AMORTIZATION  Q10_fiscal_year_end  is_train  \n",
       "2025                         19900000.0                  0.0     False  \n",
       "2026                                0.0                  0.0     False  \n",
       "2027                                0.0                  0.0     False  \n",
       "2028                                0.0                  0.0     False  \n",
       "2029                        147400000.0                  0.0     False  \n",
       "\n",
       "[5 rows x 213 columns]"
      ]
     },
     "execution_count": 9,
     "metadata": {},
     "output_type": "execute_result"
    }
   ],
   "source": [
    "df.tail()"
   ]
  },
  {
   "cell_type": "code",
   "execution_count": 10,
   "id": "8122112d",
   "metadata": {
    "execution": {
     "iopub.execute_input": "2024-03-06T22:43:13.432586Z",
     "iopub.status.busy": "2024-03-06T22:43:13.431847Z",
     "iopub.status.idle": "2024-03-06T22:43:13.439919Z",
     "shell.execute_reply": "2024-03-06T22:43:13.438564Z"
    },
    "papermill": {
     "duration": 0.025629,
     "end_time": "2024-03-06T22:43:13.442573",
     "exception": false,
     "start_time": "2024-03-06T22:43:13.416944",
     "status": "completed"
    },
    "tags": []
   },
   "outputs": [
    {
     "data": {
      "text/plain": [
       "(2030, 213)"
      ]
     },
     "execution_count": 10,
     "metadata": {},
     "output_type": "execute_result"
    }
   ],
   "source": [
    "df.shape #DF DATASET : 2030 ROWS AND 213 COLPUMNS"
   ]
  },
  {
   "cell_type": "code",
   "execution_count": 11,
   "id": "5ddd4ff3",
   "metadata": {
    "execution": {
     "iopub.execute_input": "2024-03-06T22:43:13.472059Z",
     "iopub.status.busy": "2024-03-06T22:43:13.471694Z",
     "iopub.status.idle": "2024-03-06T22:43:13.506636Z",
     "shell.execute_reply": "2024-03-06T22:43:13.505203Z"
    },
    "papermill": {
     "duration": 0.052686,
     "end_time": "2024-03-06T22:43:13.509190",
     "exception": false,
     "start_time": "2024-03-06T22:43:13.456504",
     "status": "completed"
    },
    "tags": []
   },
   "outputs": [
    {
     "name": "stdout",
     "output_type": "stream",
     "text": [
      "<class 'pandas.core.frame.DataFrame'>\n",
      "RangeIndex: 2030 entries, 0 to 2029\n",
      "Columns: 213 entries, Id to is_train\n",
      "dtypes: bool(1), float64(207), int64(1), object(4)\n",
      "memory usage: 3.3+ MB\n"
     ]
    }
   ],
   "source": [
    "df.info() #we got to know that there are 4 object type features"
   ]
  },
  {
   "cell_type": "code",
   "execution_count": 12,
   "id": "45f577ce",
   "metadata": {
    "execution": {
     "iopub.execute_input": "2024-03-06T22:43:13.538962Z",
     "iopub.status.busy": "2024-03-06T22:43:13.538102Z",
     "iopub.status.idle": "2024-03-06T22:43:13.554464Z",
     "shell.execute_reply": "2024-03-06T22:43:13.553286Z"
    },
    "papermill": {
     "duration": 0.03396,
     "end_time": "2024-03-06T22:43:13.556952",
     "exception": false,
     "start_time": "2024-03-06T22:43:13.522992",
     "status": "completed"
    },
    "tags": []
   },
   "outputs": [
    {
     "data": {
      "text/html": [
       "<div>\n",
       "<style scoped>\n",
       "    .dataframe tbody tr th:only-of-type {\n",
       "        vertical-align: middle;\n",
       "    }\n",
       "\n",
       "    .dataframe tbody tr th {\n",
       "        vertical-align: top;\n",
       "    }\n",
       "\n",
       "    .dataframe thead th {\n",
       "        text-align: right;\n",
       "    }\n",
       "</style>\n",
       "<table border=\"1\" class=\"dataframe\">\n",
       "  <thead>\n",
       "    <tr style=\"text-align: right;\">\n",
       "      <th></th>\n",
       "      <th>industry</th>\n",
       "      <th>sector</th>\n",
       "      <th>recommendationKey</th>\n",
       "      <th>financialCurrency</th>\n",
       "    </tr>\n",
       "  </thead>\n",
       "  <tbody>\n",
       "    <tr>\n",
       "      <th>0</th>\n",
       "      <td>Personal Services</td>\n",
       "      <td>Consumer Cyclical</td>\n",
       "      <td>strong_buy</td>\n",
       "      <td>USD</td>\n",
       "    </tr>\n",
       "    <tr>\n",
       "      <th>1</th>\n",
       "      <td>Building Products &amp; Equipment</td>\n",
       "      <td>Industrials</td>\n",
       "      <td>buy</td>\n",
       "      <td>USD</td>\n",
       "    </tr>\n",
       "    <tr>\n",
       "      <th>2</th>\n",
       "      <td>NaN</td>\n",
       "      <td>Unknown</td>\n",
       "      <td>NaN</td>\n",
       "      <td>NaN</td>\n",
       "    </tr>\n",
       "    <tr>\n",
       "      <th>3</th>\n",
       "      <td>Scientific &amp; Technical Instruments</td>\n",
       "      <td>Technology</td>\n",
       "      <td>hold</td>\n",
       "      <td>USD</td>\n",
       "    </tr>\n",
       "    <tr>\n",
       "      <th>4</th>\n",
       "      <td>Drug Manufacturers - Specialty &amp; Generic</td>\n",
       "      <td>Healthcare</td>\n",
       "      <td>buy</td>\n",
       "      <td>USD</td>\n",
       "    </tr>\n",
       "    <tr>\n",
       "      <th>...</th>\n",
       "      <td>...</td>\n",
       "      <td>...</td>\n",
       "      <td>...</td>\n",
       "      <td>...</td>\n",
       "    </tr>\n",
       "    <tr>\n",
       "      <th>2025</th>\n",
       "      <td>Packaged Foods</td>\n",
       "      <td>Consumer Defensive</td>\n",
       "      <td>hold</td>\n",
       "      <td>USD</td>\n",
       "    </tr>\n",
       "    <tr>\n",
       "      <th>2026</th>\n",
       "      <td>NaN</td>\n",
       "      <td>Unknown</td>\n",
       "      <td>NaN</td>\n",
       "      <td>NaN</td>\n",
       "    </tr>\n",
       "    <tr>\n",
       "      <th>2027</th>\n",
       "      <td>Medical Devices</td>\n",
       "      <td>Healthcare</td>\n",
       "      <td>buy</td>\n",
       "      <td>USD</td>\n",
       "    </tr>\n",
       "    <tr>\n",
       "      <th>2028</th>\n",
       "      <td>Drug Manufacturers - Specialty &amp; Generic</td>\n",
       "      <td>Healthcare</td>\n",
       "      <td>buy</td>\n",
       "      <td>USD</td>\n",
       "    </tr>\n",
       "    <tr>\n",
       "      <th>2029</th>\n",
       "      <td>Specialty Chemicals</td>\n",
       "      <td>Basic Materials</td>\n",
       "      <td>buy</td>\n",
       "      <td>USD</td>\n",
       "    </tr>\n",
       "  </tbody>\n",
       "</table>\n",
       "<p>2030 rows × 4 columns</p>\n",
       "</div>"
      ],
      "text/plain": [
       "                                      industry              sector  \\\n",
       "0                            Personal Services   Consumer Cyclical   \n",
       "1                Building Products & Equipment         Industrials   \n",
       "2                                          NaN             Unknown   \n",
       "3           Scientific & Technical Instruments          Technology   \n",
       "4     Drug Manufacturers - Specialty & Generic          Healthcare   \n",
       "...                                        ...                 ...   \n",
       "2025                            Packaged Foods  Consumer Defensive   \n",
       "2026                                       NaN             Unknown   \n",
       "2027                           Medical Devices          Healthcare   \n",
       "2028  Drug Manufacturers - Specialty & Generic          Healthcare   \n",
       "2029                       Specialty Chemicals     Basic Materials   \n",
       "\n",
       "     recommendationKey financialCurrency  \n",
       "0           strong_buy               USD  \n",
       "1                  buy               USD  \n",
       "2                  NaN               NaN  \n",
       "3                 hold               USD  \n",
       "4                  buy               USD  \n",
       "...                ...               ...  \n",
       "2025              hold               USD  \n",
       "2026               NaN               NaN  \n",
       "2027               buy               USD  \n",
       "2028               buy               USD  \n",
       "2029               buy               USD  \n",
       "\n",
       "[2030 rows x 4 columns]"
      ]
     },
     "execution_count": 12,
     "metadata": {},
     "output_type": "execute_result"
    }
   ],
   "source": [
    "df.select_dtypes(include = 'object') #4 Object type features : INDUSTRY, SECTOR, RECOMMENDATIONKEY, FINANCIALCURRENCY"
   ]
  },
  {
   "cell_type": "code",
   "execution_count": 13,
   "id": "0c04a299",
   "metadata": {
    "execution": {
     "iopub.execute_input": "2024-03-06T22:43:13.587895Z",
     "iopub.status.busy": "2024-03-06T22:43:13.587504Z",
     "iopub.status.idle": "2024-03-06T22:43:13.597243Z",
     "shell.execute_reply": "2024-03-06T22:43:13.595980Z"
    },
    "papermill": {
     "duration": 0.027883,
     "end_time": "2024-03-06T22:43:13.599618",
     "exception": false,
     "start_time": "2024-03-06T22:43:13.571735",
     "status": "completed"
    },
    "tags": []
   },
   "outputs": [
    {
     "data": {
      "text/plain": [
       "0                              Personal Services\n",
       "1                  Building Products & Equipment\n",
       "3             Scientific & Technical Instruments\n",
       "4       Drug Manufacturers - Specialty & Generic\n",
       "5                            Tools & Accessories\n",
       "                          ...                   \n",
       "2024                            Telecom Services\n",
       "2025                              Packaged Foods\n",
       "2027                             Medical Devices\n",
       "2028    Drug Manufacturers - Specialty & Generic\n",
       "2029                         Specialty Chemicals\n",
       "Name: industry, Length: 2003, dtype: object"
      ]
     },
     "execution_count": 13,
     "metadata": {},
     "output_type": "execute_result"
    }
   ],
   "source": [
    "df[\"industry\"].dropna()"
   ]
  },
  {
   "cell_type": "code",
   "execution_count": 14,
   "id": "f2be64f8",
   "metadata": {
    "execution": {
     "iopub.execute_input": "2024-03-06T22:43:13.630232Z",
     "iopub.status.busy": "2024-03-06T22:43:13.629440Z",
     "iopub.status.idle": "2024-03-06T22:43:13.637518Z",
     "shell.execute_reply": "2024-03-06T22:43:13.636595Z"
    },
    "papermill": {
     "duration": 0.025741,
     "end_time": "2024-03-06T22:43:13.639643",
     "exception": false,
     "start_time": "2024-03-06T22:43:13.613902",
     "status": "completed"
    },
    "tags": []
   },
   "outputs": [
    {
     "data": {
      "text/plain": [
       "27"
      ]
     },
     "execution_count": 14,
     "metadata": {},
     "output_type": "execute_result"
    }
   ],
   "source": [
    "df[\"industry\"].isnull().sum() #NO OF NULL VALUES IN INDUSTRY BEFORE"
   ]
  },
  {
   "cell_type": "code",
   "execution_count": 15,
   "id": "af41d5ea",
   "metadata": {
    "execution": {
     "iopub.execute_input": "2024-03-06T22:43:13.670705Z",
     "iopub.status.busy": "2024-03-06T22:43:13.670001Z",
     "iopub.status.idle": "2024-03-06T22:43:13.678694Z",
     "shell.execute_reply": "2024-03-06T22:43:13.677582Z"
    },
    "papermill": {
     "duration": 0.027776,
     "end_time": "2024-03-06T22:43:13.682003",
     "exception": false,
     "start_time": "2024-03-06T22:43:13.654227",
     "status": "completed"
    },
    "tags": []
   },
   "outputs": [],
   "source": [
    "df[\"industry\"] = df[\"industry\"].fillna(df[\"industry\"].mode()[0]) #HANDLING MISSING VALUE FOR CATEGORICAL DATA USING MODE APPROCH"
   ]
  },
  {
   "cell_type": "code",
   "execution_count": 16,
   "id": "07dd37f4",
   "metadata": {
    "execution": {
     "iopub.execute_input": "2024-03-06T22:43:13.713214Z",
     "iopub.status.busy": "2024-03-06T22:43:13.712813Z",
     "iopub.status.idle": "2024-03-06T22:43:13.721273Z",
     "shell.execute_reply": "2024-03-06T22:43:13.720007Z"
    },
    "papermill": {
     "duration": 0.026535,
     "end_time": "2024-03-06T22:43:13.723666",
     "exception": false,
     "start_time": "2024-03-06T22:43:13.697131",
     "status": "completed"
    },
    "tags": []
   },
   "outputs": [
    {
     "data": {
      "text/plain": [
       "0"
      ]
     },
     "execution_count": 16,
     "metadata": {},
     "output_type": "execute_result"
    }
   ],
   "source": [
    "df[\"industry\"].isnull().sum() #NO OF NULL VALUES IN INDUSTRY AFTER"
   ]
  },
  {
   "cell_type": "code",
   "execution_count": 17,
   "id": "422a4eb9",
   "metadata": {
    "execution": {
     "iopub.execute_input": "2024-03-06T22:43:13.755033Z",
     "iopub.status.busy": "2024-03-06T22:43:13.754627Z",
     "iopub.status.idle": "2024-03-06T22:43:13.765329Z",
     "shell.execute_reply": "2024-03-06T22:43:13.764227Z"
    },
    "papermill": {
     "duration": 0.029041,
     "end_time": "2024-03-06T22:43:13.767669",
     "exception": false,
     "start_time": "2024-03-06T22:43:13.738628",
     "status": "completed"
    },
    "tags": []
   },
   "outputs": [
    {
     "name": "stdout",
     "output_type": "stream",
     "text": [
      "Missing values in SECTOR: 0\n",
      "Missing values in RECOMMENDATIONKEY: 24\n",
      "Missing values in FINANCIALCURRENCY: 24\n"
     ]
    }
   ],
   "source": [
    "#MISSING VALUES BEFORE FOR CATEGORICAL DATA\n",
    "df[\"sector\"].dropna()\n",
    "df[\"recommendationKey\"].dropna()\n",
    "df[\"financialCurrency\"].dropna()\n",
    "print(\"Missing values in SECTOR:\",df[\"sector\"].isnull().sum())\n",
    "print(\"Missing values in RECOMMENDATIONKEY:\",df[\"recommendationKey\"].isnull().sum())\n",
    "print(\"Missing values in FINANCIALCURRENCY:\",df[\"financialCurrency\"].isnull().sum())"
   ]
  },
  {
   "cell_type": "code",
   "execution_count": 18,
   "id": "6b6702c6",
   "metadata": {
    "execution": {
     "iopub.execute_input": "2024-03-06T22:43:13.799317Z",
     "iopub.status.busy": "2024-03-06T22:43:13.798894Z",
     "iopub.status.idle": "2024-03-06T22:43:13.807800Z",
     "shell.execute_reply": "2024-03-06T22:43:13.806679Z"
    },
    "papermill": {
     "duration": 0.027746,
     "end_time": "2024-03-06T22:43:13.810248",
     "exception": false,
     "start_time": "2024-03-06T22:43:13.782502",
     "status": "completed"
    },
    "tags": []
   },
   "outputs": [],
   "source": [
    "#MODE APPROCH\n",
    "df[\"recommendationKey\"] = df[\"recommendationKey\"].fillna(df[\"recommendationKey\"].mode()[0])\n",
    "df[\"financialCurrency\"] = df[\"financialCurrency\"].fillna(df[\"financialCurrency\"].mode()[0])"
   ]
  },
  {
   "cell_type": "code",
   "execution_count": 19,
   "id": "cc48aaf9",
   "metadata": {
    "execution": {
     "iopub.execute_input": "2024-03-06T22:43:13.842418Z",
     "iopub.status.busy": "2024-03-06T22:43:13.842008Z",
     "iopub.status.idle": "2024-03-06T22:43:13.850498Z",
     "shell.execute_reply": "2024-03-06T22:43:13.849315Z"
    },
    "papermill": {
     "duration": 0.028403,
     "end_time": "2024-03-06T22:43:13.853632",
     "exception": false,
     "start_time": "2024-03-06T22:43:13.825229",
     "status": "completed"
    },
    "tags": []
   },
   "outputs": [
    {
     "name": "stdout",
     "output_type": "stream",
     "text": [
      "Missing values in SECTOR: 0\n",
      "Missing values in RECOMMENDATIONKEY: 0\n",
      "Missing values in FINANCIALCURRENCY: 0\n"
     ]
    }
   ],
   "source": [
    "#MISSING VALUES AFTER FOR CATEGORICAL DATA\n",
    "print(\"Missing values in SECTOR:\",df[\"sector\"].isnull().sum())\n",
    "print(\"Missing values in RECOMMENDATIONKEY:\",df[\"recommendationKey\"].isnull().sum())\n",
    "print(\"Missing values in FINANCIALCURRENCY:\",df[\"financialCurrency\"].isnull().sum())"
   ]
  },
  {
   "cell_type": "code",
   "execution_count": 20,
   "id": "5ad6dd3d",
   "metadata": {
    "execution": {
     "iopub.execute_input": "2024-03-06T22:43:13.887511Z",
     "iopub.status.busy": "2024-03-06T22:43:13.887145Z",
     "iopub.status.idle": "2024-03-06T22:43:13.896680Z",
     "shell.execute_reply": "2024-03-06T22:43:13.895476Z"
    },
    "papermill": {
     "duration": 0.028682,
     "end_time": "2024-03-06T22:43:13.899278",
     "exception": false,
     "start_time": "2024-03-06T22:43:13.870596",
     "status": "completed"
    },
    "tags": []
   },
   "outputs": [
    {
     "name": "stdout",
     "output_type": "stream",
     "text": [
      "industry unique values num: 113\n",
      "--------------------------------------------------\n",
      "sector unique values num: 10\n",
      "--------------------------------------------------\n",
      "recommendationKey unique values num: 6\n",
      "--------------------------------------------------\n",
      "financialCurrency unique values num: 2\n",
      "--------------------------------------------------\n"
     ]
    }
   ],
   "source": [
    "#NUMBER OF UNIQUE VALUES IN EACH COLUMN OF TYPE OBJECT\n",
    "for column in df.select_dtypes(include = 'O'):\n",
    "    print(f'{column} unique values num: {df[column].nunique()}')\n",
    "    print('-'*50)"
   ]
  },
  {
   "cell_type": "code",
   "execution_count": 21,
   "id": "e3902ad9",
   "metadata": {
    "execution": {
     "iopub.execute_input": "2024-03-06T22:43:13.931403Z",
     "iopub.status.busy": "2024-03-06T22:43:13.930991Z",
     "iopub.status.idle": "2024-03-06T22:43:14.195511Z",
     "shell.execute_reply": "2024-03-06T22:43:14.194127Z"
    },
    "papermill": {
     "duration": 0.283771,
     "end_time": "2024-03-06T22:43:14.198308",
     "exception": false,
     "start_time": "2024-03-06T22:43:13.914537",
     "status": "completed"
    },
    "tags": []
   },
   "outputs": [],
   "source": [
    "#PERFORMING LABEL ENCODING\n",
    "from sklearn.preprocessing import LabelEncoder\n",
    "encoder = LabelEncoder()\n",
    "df[\"industry\"] = encoder.fit_transform(df[\"industry\"])\n",
    "df[\"sector\"] = encoder.fit_transform(df[\"sector\"])\n",
    "df[\"recommendationKey\"] = encoder.fit_transform(df[\"recommendationKey\"])\n",
    "df[\"financialCurrency\"] = encoder.fit_transform(df[\"financialCurrency\"])"
   ]
  },
  {
   "cell_type": "code",
   "execution_count": 22,
   "id": "e170076c",
   "metadata": {
    "execution": {
     "iopub.execute_input": "2024-03-06T22:43:14.230040Z",
     "iopub.status.busy": "2024-03-06T22:43:14.229614Z",
     "iopub.status.idle": "2024-03-06T22:43:14.241725Z",
     "shell.execute_reply": "2024-03-06T22:43:14.240574Z"
    },
    "papermill": {
     "duration": 0.030979,
     "end_time": "2024-03-06T22:43:14.244332",
     "exception": false,
     "start_time": "2024-03-06T22:43:14.213353",
     "status": "completed"
    },
    "tags": []
   },
   "outputs": [
    {
     "data": {
      "text/plain": [
       "Id                                     0\n",
       "industry                               0\n",
       "sector                                 0\n",
       "fullTimeEmployees                    102\n",
       "auditRisk                            625\n",
       "                                    ... \n",
       "Q10_OPERATING_EXPENSES               261\n",
       "Q10_EBITDA                           273\n",
       "Q10_DEPRECIATION_AND_AMORTIZATION    279\n",
       "Q10_fiscal_year_end                    0\n",
       "is_train                               0\n",
       "Length: 213, dtype: int64"
      ]
     },
     "execution_count": 22,
     "metadata": {},
     "output_type": "execute_result"
    }
   ],
   "source": [
    "df.isnull().sum() #NO OF MISSING/NULL VALUES PRESENT IN EACH FEATURE"
   ]
  },
  {
   "cell_type": "code",
   "execution_count": 23,
   "id": "89a2340e",
   "metadata": {
    "execution": {
     "iopub.execute_input": "2024-03-06T22:43:14.278124Z",
     "iopub.status.busy": "2024-03-06T22:43:14.276969Z",
     "iopub.status.idle": "2024-03-06T22:43:14.286729Z",
     "shell.execute_reply": "2024-03-06T22:43:14.285777Z"
    },
    "papermill": {
     "duration": 0.029051,
     "end_time": "2024-03-06T22:43:14.288922",
     "exception": false,
     "start_time": "2024-03-06T22:43:14.259871",
     "status": "completed"
    },
    "tags": []
   },
   "outputs": [
    {
     "data": {
      "text/plain": [
       "Q0_TOTAL_ASSETS                 0\n",
       "Q0_TOTAL_LIABILITIES            0\n",
       "Q0_TOTAL_STOCKHOLDERS_EQUITY    0\n",
       "Q0_GROSS_PROFIT                 0\n",
       "Q0_COST_OF_REVENUES             0\n",
       "Q0_REVENUES                     0\n",
       "Q0_OPERATING_INCOME             0\n",
       "Q0_OPERATING_EXPENSES           0\n",
       "Q0_EBITDA                       0\n",
       "dtype: int64"
      ]
     },
     "execution_count": 23,
     "metadata": {},
     "output_type": "execute_result"
    }
   ],
   "source": [
    "train[targets_names].isnull().sum() #NO OF MISSING VALUES IN TARGET VARIABLE IS 0"
   ]
  },
  {
   "cell_type": "code",
   "execution_count": 24,
   "id": "dc7eccc1",
   "metadata": {
    "execution": {
     "iopub.execute_input": "2024-03-06T22:43:14.322298Z",
     "iopub.status.busy": "2024-03-06T22:43:14.321431Z",
     "iopub.status.idle": "2024-03-06T22:43:14.468907Z",
     "shell.execute_reply": "2024-03-06T22:43:14.467617Z"
    },
    "papermill": {
     "duration": 0.1673,
     "end_time": "2024-03-06T22:43:14.471561",
     "exception": false,
     "start_time": "2024-03-06T22:43:14.304261",
     "status": "completed"
    },
    "tags": []
   },
   "outputs": [
    {
     "name": "stdout",
     "output_type": "stream",
     "text": [
      "MISSING VALUES BEFORE MEDIAN APPROCH: 28653\n",
      "MISSING VALUES AFTER MEDIAN APPROCH: 0\n"
     ]
    }
   ],
   "source": [
    "#HANDLING MISSING VALUES IN DATASET DF USING MEDIAN APPROCH\n",
    "def missing_values(df):\n",
    "    print(f'MISSING VALUES BEFORE MEDIAN APPROCH: {sum(df.isnull().sum())}')\n",
    "    #REPLACING INF and -INF with NaN\n",
    "    df.replace([np.inf, -np.inf], np.nan, inplace=True)\n",
    "    #HANDLING NaN VALUES BY MEDIAN APPROCH\n",
    "    for column in df:\n",
    "        if np.any(df[column].isnull()):\n",
    "            df[column].fillna(df[column].median(), inplace = True)\n",
    "    print(f'MISSING VALUES AFTER MEDIAN APPROCH: {sum(df.isnull().sum())}')\n",
    "    return df\n",
    "\n",
    "df = missing_values(df)"
   ]
  },
  {
   "cell_type": "code",
   "execution_count": 25,
   "id": "5dcc4c4e",
   "metadata": {
    "execution": {
     "iopub.execute_input": "2024-03-06T22:43:14.505940Z",
     "iopub.status.busy": "2024-03-06T22:43:14.505563Z",
     "iopub.status.idle": "2024-03-06T22:43:14.521652Z",
     "shell.execute_reply": "2024-03-06T22:43:14.520387Z"
    },
    "papermill": {
     "duration": 0.036601,
     "end_time": "2024-03-06T22:43:14.524376",
     "exception": false,
     "start_time": "2024-03-06T22:43:14.487775",
     "status": "completed"
    },
    "tags": []
   },
   "outputs": [],
   "source": [
    "train = df[df['is_train'] == True] #STORING DATA WHERE df['is_train'] == True IN \"train\" VARIABLE\n",
    "test = df[df['is_train'] == False] #STORING DATA WHERE df['is_train'] == False IN \"test\" VARIABLE\n",
    "train.drop('is_train', axis = 1, inplace=True) #DROP 'is_train' COLUMN FROM TRAIN DATASET\n",
    "test.drop('is_train', axis = 1, inplace=True) #DROP 'is_train' COLUMN FROM TEST DATASET\n",
    "test.reset_index(drop = True, inplace = True) #RESET INDEX IN TEST DATASET"
   ]
  },
  {
   "cell_type": "code",
   "execution_count": 26,
   "id": "8b75fbd8",
   "metadata": {
    "execution": {
     "iopub.execute_input": "2024-03-06T22:43:14.557738Z",
     "iopub.status.busy": "2024-03-06T22:43:14.556951Z",
     "iopub.status.idle": "2024-03-06T22:43:14.567089Z",
     "shell.execute_reply": "2024-03-06T22:43:14.566200Z"
    },
    "papermill": {
     "duration": 0.029602,
     "end_time": "2024-03-06T22:43:14.569562",
     "exception": false,
     "start_time": "2024-03-06T22:43:14.539960",
     "status": "completed"
    },
    "tags": []
   },
   "outputs": [],
   "source": [
    "#REMOVING ALL TARGET COLUMNS FROM TRAIN AND TEST DATASETS\n",
    "test.drop(targets_names, axis = 1, inplace = True)\n",
    "targets = train[targets_names].copy() # TARGETS DATASET CREATION\n",
    "train.drop(targets_names, axis = 1, inplace = True)"
   ]
  },
  {
   "cell_type": "code",
   "execution_count": 27,
   "id": "d86033d7",
   "metadata": {
    "execution": {
     "iopub.execute_input": "2024-03-06T22:43:14.603414Z",
     "iopub.status.busy": "2024-03-06T22:43:14.602737Z",
     "iopub.status.idle": "2024-03-06T22:43:14.635701Z",
     "shell.execute_reply": "2024-03-06T22:43:14.634534Z"
    },
    "papermill": {
     "duration": 0.052433,
     "end_time": "2024-03-06T22:43:14.638160",
     "exception": false,
     "start_time": "2024-03-06T22:43:14.585727",
     "status": "completed"
    },
    "tags": []
   },
   "outputs": [
    {
     "data": {
      "text/html": [
       "<div>\n",
       "<style scoped>\n",
       "    .dataframe tbody tr th:only-of-type {\n",
       "        vertical-align: middle;\n",
       "    }\n",
       "\n",
       "    .dataframe tbody tr th {\n",
       "        vertical-align: top;\n",
       "    }\n",
       "\n",
       "    .dataframe thead th {\n",
       "        text-align: right;\n",
       "    }\n",
       "</style>\n",
       "<table border=\"1\" class=\"dataframe\">\n",
       "  <thead>\n",
       "    <tr style=\"text-align: right;\">\n",
       "      <th></th>\n",
       "      <th>Id</th>\n",
       "      <th>industry</th>\n",
       "      <th>sector</th>\n",
       "      <th>fullTimeEmployees</th>\n",
       "      <th>auditRisk</th>\n",
       "      <th>boardRisk</th>\n",
       "      <th>compensationRisk</th>\n",
       "      <th>shareHolderRightsRisk</th>\n",
       "      <th>overallRisk</th>\n",
       "      <th>trailingPE</th>\n",
       "      <th>...</th>\n",
       "      <th>Q10_TOTAL_STOCKHOLDERS_EQUITY</th>\n",
       "      <th>Q10_NET_INCOME</th>\n",
       "      <th>Q10_GROSS_PROFIT</th>\n",
       "      <th>Q10_COST_OF_REVENUES</th>\n",
       "      <th>Q10_REVENUES</th>\n",
       "      <th>Q10_OPERATING_INCOME</th>\n",
       "      <th>Q10_OPERATING_EXPENSES</th>\n",
       "      <th>Q10_EBITDA</th>\n",
       "      <th>Q10_DEPRECIATION_AND_AMORTIZATION</th>\n",
       "      <th>Q10_fiscal_year_end</th>\n",
       "    </tr>\n",
       "  </thead>\n",
       "  <tbody>\n",
       "    <tr>\n",
       "      <th>0</th>\n",
       "      <td>196</td>\n",
       "      <td>76</td>\n",
       "      <td>2</td>\n",
       "      <td>1174.0</td>\n",
       "      <td>5.0</td>\n",
       "      <td>10.0</td>\n",
       "      <td>9.0</td>\n",
       "      <td>4.0</td>\n",
       "      <td>8.0</td>\n",
       "      <td>12.549223</td>\n",
       "      <td>...</td>\n",
       "      <td>2.405020e+08</td>\n",
       "      <td>-210355.0</td>\n",
       "      <td>2.317100e+07</td>\n",
       "      <td>5.431900e+07</td>\n",
       "      <td>4.073200e+07</td>\n",
       "      <td>2150000.0</td>\n",
       "      <td>5946000.0</td>\n",
       "      <td>1.722500e+07</td>\n",
       "      <td>15075000.0</td>\n",
       "      <td>0.0</td>\n",
       "    </tr>\n",
       "    <tr>\n",
       "      <th>1</th>\n",
       "      <td>1568</td>\n",
       "      <td>17</td>\n",
       "      <td>6</td>\n",
       "      <td>3600.0</td>\n",
       "      <td>4.0</td>\n",
       "      <td>4.0</td>\n",
       "      <td>3.0</td>\n",
       "      <td>4.0</td>\n",
       "      <td>3.0</td>\n",
       "      <td>1222.000000</td>\n",
       "      <td>...</td>\n",
       "      <td>3.265380e+08</td>\n",
       "      <td>-71929000.0</td>\n",
       "      <td>4.105740e+08</td>\n",
       "      <td>6.926880e+08</td>\n",
       "      <td>1.103262e+09</td>\n",
       "      <td>-39287000.0</td>\n",
       "      <td>333229000.0</td>\n",
       "      <td>7.734500e+07</td>\n",
       "      <td>116632000.0</td>\n",
       "      <td>0.0</td>\n",
       "    </tr>\n",
       "    <tr>\n",
       "      <th>2</th>\n",
       "      <td>1218</td>\n",
       "      <td>14</td>\n",
       "      <td>8</td>\n",
       "      <td>874.5</td>\n",
       "      <td>6.0</td>\n",
       "      <td>6.0</td>\n",
       "      <td>6.0</td>\n",
       "      <td>6.0</td>\n",
       "      <td>6.0</td>\n",
       "      <td>21.026262</td>\n",
       "      <td>...</td>\n",
       "      <td>4.066300e+10</td>\n",
       "      <td>603000000.0</td>\n",
       "      <td>1.649000e+09</td>\n",
       "      <td>4.587000e+09</td>\n",
       "      <td>6.236000e+09</td>\n",
       "      <td>663000000.0</td>\n",
       "      <td>214000000.0</td>\n",
       "      <td>1.435000e+09</td>\n",
       "      <td>772000000.0</td>\n",
       "      <td>0.0</td>\n",
       "    </tr>\n",
       "    <tr>\n",
       "      <th>3</th>\n",
       "      <td>23</td>\n",
       "      <td>85</td>\n",
       "      <td>7</td>\n",
       "      <td>143.0</td>\n",
       "      <td>6.0</td>\n",
       "      <td>6.0</td>\n",
       "      <td>6.0</td>\n",
       "      <td>6.0</td>\n",
       "      <td>6.0</td>\n",
       "      <td>21.026262</td>\n",
       "      <td>...</td>\n",
       "      <td>2.758000e+03</td>\n",
       "      <td>-9715.0</td>\n",
       "      <td>0.000000e+00</td>\n",
       "      <td>2.957950e+07</td>\n",
       "      <td>1.031810e+08</td>\n",
       "      <td>-9683.0</td>\n",
       "      <td>9683.0</td>\n",
       "      <td>-9.683000e+03</td>\n",
       "      <td>0.0</td>\n",
       "      <td>0.0</td>\n",
       "    </tr>\n",
       "    <tr>\n",
       "      <th>4</th>\n",
       "      <td>783</td>\n",
       "      <td>31</td>\n",
       "      <td>5</td>\n",
       "      <td>36.0</td>\n",
       "      <td>6.0</td>\n",
       "      <td>6.0</td>\n",
       "      <td>6.0</td>\n",
       "      <td>6.0</td>\n",
       "      <td>6.0</td>\n",
       "      <td>1.231544</td>\n",
       "      <td>...</td>\n",
       "      <td>2.592400e+07</td>\n",
       "      <td>-4676000.0</td>\n",
       "      <td>1.205000e+07</td>\n",
       "      <td>0.000000e+00</td>\n",
       "      <td>1.205000e+07</td>\n",
       "      <td>-1594000.0</td>\n",
       "      <td>13644000.0</td>\n",
       "      <td>-1.594000e+06</td>\n",
       "      <td>0.0</td>\n",
       "      <td>0.0</td>\n",
       "    </tr>\n",
       "  </tbody>\n",
       "</table>\n",
       "<p>5 rows × 203 columns</p>\n",
       "</div>"
      ],
      "text/plain": [
       "     Id  industry  sector  fullTimeEmployees  auditRisk  boardRisk  \\\n",
       "0   196        76       2             1174.0        5.0       10.0   \n",
       "1  1568        17       6             3600.0        4.0        4.0   \n",
       "2  1218        14       8              874.5        6.0        6.0   \n",
       "3    23        85       7              143.0        6.0        6.0   \n",
       "4   783        31       5               36.0        6.0        6.0   \n",
       "\n",
       "   compensationRisk  shareHolderRightsRisk  overallRisk   trailingPE  ...  \\\n",
       "0               9.0                    4.0          8.0    12.549223  ...   \n",
       "1               3.0                    4.0          3.0  1222.000000  ...   \n",
       "2               6.0                    6.0          6.0    21.026262  ...   \n",
       "3               6.0                    6.0          6.0    21.026262  ...   \n",
       "4               6.0                    6.0          6.0     1.231544  ...   \n",
       "\n",
       "   Q10_TOTAL_STOCKHOLDERS_EQUITY  Q10_NET_INCOME  Q10_GROSS_PROFIT  \\\n",
       "0                   2.405020e+08       -210355.0      2.317100e+07   \n",
       "1                   3.265380e+08     -71929000.0      4.105740e+08   \n",
       "2                   4.066300e+10     603000000.0      1.649000e+09   \n",
       "3                   2.758000e+03         -9715.0      0.000000e+00   \n",
       "4                   2.592400e+07      -4676000.0      1.205000e+07   \n",
       "\n",
       "   Q10_COST_OF_REVENUES  Q10_REVENUES  Q10_OPERATING_INCOME  \\\n",
       "0          5.431900e+07  4.073200e+07             2150000.0   \n",
       "1          6.926880e+08  1.103262e+09           -39287000.0   \n",
       "2          4.587000e+09  6.236000e+09           663000000.0   \n",
       "3          2.957950e+07  1.031810e+08               -9683.0   \n",
       "4          0.000000e+00  1.205000e+07            -1594000.0   \n",
       "\n",
       "   Q10_OPERATING_EXPENSES    Q10_EBITDA  Q10_DEPRECIATION_AND_AMORTIZATION  \\\n",
       "0               5946000.0  1.722500e+07                         15075000.0   \n",
       "1             333229000.0  7.734500e+07                        116632000.0   \n",
       "2             214000000.0  1.435000e+09                        772000000.0   \n",
       "3                  9683.0 -9.683000e+03                                0.0   \n",
       "4              13644000.0 -1.594000e+06                                0.0   \n",
       "\n",
       "   Q10_fiscal_year_end  \n",
       "0                  0.0  \n",
       "1                  0.0  \n",
       "2                  0.0  \n",
       "3                  0.0  \n",
       "4                  0.0  \n",
       "\n",
       "[5 rows x 203 columns]"
      ]
     },
     "execution_count": 27,
     "metadata": {},
     "output_type": "execute_result"
    }
   ],
   "source": [
    "train.head() #FINAL TRAINING DATASET"
   ]
  },
  {
   "cell_type": "code",
   "execution_count": 28,
   "id": "c799103f",
   "metadata": {
    "execution": {
     "iopub.execute_input": "2024-03-06T22:43:14.672067Z",
     "iopub.status.busy": "2024-03-06T22:43:14.671423Z",
     "iopub.status.idle": "2024-03-06T22:43:14.704996Z",
     "shell.execute_reply": "2024-03-06T22:43:14.703869Z"
    },
    "papermill": {
     "duration": 0.05314,
     "end_time": "2024-03-06T22:43:14.707334",
     "exception": false,
     "start_time": "2024-03-06T22:43:14.654194",
     "status": "completed"
    },
    "tags": []
   },
   "outputs": [
    {
     "data": {
      "text/html": [
       "<div>\n",
       "<style scoped>\n",
       "    .dataframe tbody tr th:only-of-type {\n",
       "        vertical-align: middle;\n",
       "    }\n",
       "\n",
       "    .dataframe tbody tr th {\n",
       "        vertical-align: top;\n",
       "    }\n",
       "\n",
       "    .dataframe thead th {\n",
       "        text-align: right;\n",
       "    }\n",
       "</style>\n",
       "<table border=\"1\" class=\"dataframe\">\n",
       "  <thead>\n",
       "    <tr style=\"text-align: right;\">\n",
       "      <th></th>\n",
       "      <th>Id</th>\n",
       "      <th>industry</th>\n",
       "      <th>sector</th>\n",
       "      <th>fullTimeEmployees</th>\n",
       "      <th>auditRisk</th>\n",
       "      <th>boardRisk</th>\n",
       "      <th>compensationRisk</th>\n",
       "      <th>shareHolderRightsRisk</th>\n",
       "      <th>overallRisk</th>\n",
       "      <th>trailingPE</th>\n",
       "      <th>...</th>\n",
       "      <th>Q10_TOTAL_STOCKHOLDERS_EQUITY</th>\n",
       "      <th>Q10_NET_INCOME</th>\n",
       "      <th>Q10_GROSS_PROFIT</th>\n",
       "      <th>Q10_COST_OF_REVENUES</th>\n",
       "      <th>Q10_REVENUES</th>\n",
       "      <th>Q10_OPERATING_INCOME</th>\n",
       "      <th>Q10_OPERATING_EXPENSES</th>\n",
       "      <th>Q10_EBITDA</th>\n",
       "      <th>Q10_DEPRECIATION_AND_AMORTIZATION</th>\n",
       "      <th>Q10_fiscal_year_end</th>\n",
       "    </tr>\n",
       "  </thead>\n",
       "  <tbody>\n",
       "    <tr>\n",
       "      <th>0</th>\n",
       "      <td>480</td>\n",
       "      <td>31</td>\n",
       "      <td>5</td>\n",
       "      <td>874.5</td>\n",
       "      <td>6.0</td>\n",
       "      <td>6.0</td>\n",
       "      <td>6.0</td>\n",
       "      <td>6.0</td>\n",
       "      <td>6.0</td>\n",
       "      <td>21.026262</td>\n",
       "      <td>...</td>\n",
       "      <td>2.424310e+08</td>\n",
       "      <td>-210355.0</td>\n",
       "      <td>34239000.0</td>\n",
       "      <td>29579500.0</td>\n",
       "      <td>103181000.0</td>\n",
       "      <td>-38304.0</td>\n",
       "      <td>39633000.0</td>\n",
       "      <td>-268440.0</td>\n",
       "      <td>0.0</td>\n",
       "      <td>0.0</td>\n",
       "    </tr>\n",
       "    <tr>\n",
       "      <th>1</th>\n",
       "      <td>573</td>\n",
       "      <td>31</td>\n",
       "      <td>5</td>\n",
       "      <td>7600.0</td>\n",
       "      <td>6.0</td>\n",
       "      <td>7.0</td>\n",
       "      <td>6.0</td>\n",
       "      <td>4.0</td>\n",
       "      <td>5.0</td>\n",
       "      <td>90.500000</td>\n",
       "      <td>...</td>\n",
       "      <td>3.230150e+08</td>\n",
       "      <td>-210355.0</td>\n",
       "      <td>191562000.0</td>\n",
       "      <td>301543000.0</td>\n",
       "      <td>493105000.0</td>\n",
       "      <td>45907000.0</td>\n",
       "      <td>90726000.0</td>\n",
       "      <td>100836000.0</td>\n",
       "      <td>54929000.0</td>\n",
       "      <td>0.0</td>\n",
       "    </tr>\n",
       "    <tr>\n",
       "      <th>2</th>\n",
       "      <td>1967</td>\n",
       "      <td>89</td>\n",
       "      <td>7</td>\n",
       "      <td>874.5</td>\n",
       "      <td>6.0</td>\n",
       "      <td>6.0</td>\n",
       "      <td>6.0</td>\n",
       "      <td>6.0</td>\n",
       "      <td>6.0</td>\n",
       "      <td>21.026262</td>\n",
       "      <td>...</td>\n",
       "      <td>2.424310e+08</td>\n",
       "      <td>-210355.0</td>\n",
       "      <td>34239000.0</td>\n",
       "      <td>29579500.0</td>\n",
       "      <td>103181000.0</td>\n",
       "      <td>-38304.0</td>\n",
       "      <td>39633000.0</td>\n",
       "      <td>-268440.0</td>\n",
       "      <td>0.0</td>\n",
       "      <td>0.0</td>\n",
       "    </tr>\n",
       "    <tr>\n",
       "      <th>3</th>\n",
       "      <td>57</td>\n",
       "      <td>60</td>\n",
       "      <td>6</td>\n",
       "      <td>5200.0</td>\n",
       "      <td>1.0</td>\n",
       "      <td>5.0</td>\n",
       "      <td>4.0</td>\n",
       "      <td>5.0</td>\n",
       "      <td>3.0</td>\n",
       "      <td>23.500002</td>\n",
       "      <td>...</td>\n",
       "      <td>3.085267e+09</td>\n",
       "      <td>-3375000.0</td>\n",
       "      <td>72793000.0</td>\n",
       "      <td>228158000.0</td>\n",
       "      <td>300951000.0</td>\n",
       "      <td>3164000.0</td>\n",
       "      <td>69629000.0</td>\n",
       "      <td>3164000.0</td>\n",
       "      <td>0.0</td>\n",
       "      <td>0.0</td>\n",
       "    </tr>\n",
       "    <tr>\n",
       "      <th>4</th>\n",
       "      <td>131</td>\n",
       "      <td>65</td>\n",
       "      <td>6</td>\n",
       "      <td>6700.0</td>\n",
       "      <td>1.0</td>\n",
       "      <td>4.0</td>\n",
       "      <td>4.0</td>\n",
       "      <td>6.0</td>\n",
       "      <td>3.0</td>\n",
       "      <td>20.748793</td>\n",
       "      <td>...</td>\n",
       "      <td>4.829000e+08</td>\n",
       "      <td>-7900000.0</td>\n",
       "      <td>85800000.0</td>\n",
       "      <td>606700000.0</td>\n",
       "      <td>692500000.0</td>\n",
       "      <td>31800000.0</td>\n",
       "      <td>54000000.0</td>\n",
       "      <td>31800000.0</td>\n",
       "      <td>0.0</td>\n",
       "      <td>0.0</td>\n",
       "    </tr>\n",
       "  </tbody>\n",
       "</table>\n",
       "<p>5 rows × 203 columns</p>\n",
       "</div>"
      ],
      "text/plain": [
       "     Id  industry  sector  fullTimeEmployees  auditRisk  boardRisk  \\\n",
       "0   480        31       5              874.5        6.0        6.0   \n",
       "1   573        31       5             7600.0        6.0        7.0   \n",
       "2  1967        89       7              874.5        6.0        6.0   \n",
       "3    57        60       6             5200.0        1.0        5.0   \n",
       "4   131        65       6             6700.0        1.0        4.0   \n",
       "\n",
       "   compensationRisk  shareHolderRightsRisk  overallRisk  trailingPE  ...  \\\n",
       "0               6.0                    6.0          6.0   21.026262  ...   \n",
       "1               6.0                    4.0          5.0   90.500000  ...   \n",
       "2               6.0                    6.0          6.0   21.026262  ...   \n",
       "3               4.0                    5.0          3.0   23.500002  ...   \n",
       "4               4.0                    6.0          3.0   20.748793  ...   \n",
       "\n",
       "   Q10_TOTAL_STOCKHOLDERS_EQUITY  Q10_NET_INCOME  Q10_GROSS_PROFIT  \\\n",
       "0                   2.424310e+08       -210355.0        34239000.0   \n",
       "1                   3.230150e+08       -210355.0       191562000.0   \n",
       "2                   2.424310e+08       -210355.0        34239000.0   \n",
       "3                   3.085267e+09      -3375000.0        72793000.0   \n",
       "4                   4.829000e+08      -7900000.0        85800000.0   \n",
       "\n",
       "   Q10_COST_OF_REVENUES  Q10_REVENUES  Q10_OPERATING_INCOME  \\\n",
       "0            29579500.0   103181000.0              -38304.0   \n",
       "1           301543000.0   493105000.0            45907000.0   \n",
       "2            29579500.0   103181000.0              -38304.0   \n",
       "3           228158000.0   300951000.0             3164000.0   \n",
       "4           606700000.0   692500000.0            31800000.0   \n",
       "\n",
       "   Q10_OPERATING_EXPENSES   Q10_EBITDA  Q10_DEPRECIATION_AND_AMORTIZATION  \\\n",
       "0              39633000.0    -268440.0                                0.0   \n",
       "1              90726000.0  100836000.0                         54929000.0   \n",
       "2              39633000.0    -268440.0                                0.0   \n",
       "3              69629000.0    3164000.0                                0.0   \n",
       "4              54000000.0   31800000.0                                0.0   \n",
       "\n",
       "   Q10_fiscal_year_end  \n",
       "0                  0.0  \n",
       "1                  0.0  \n",
       "2                  0.0  \n",
       "3                  0.0  \n",
       "4                  0.0  \n",
       "\n",
       "[5 rows x 203 columns]"
      ]
     },
     "execution_count": 28,
     "metadata": {},
     "output_type": "execute_result"
    }
   ],
   "source": [
    "test.head() #FINAL TESTING DATASET"
   ]
  },
  {
   "cell_type": "code",
   "execution_count": 29,
   "id": "e7815430",
   "metadata": {
    "execution": {
     "iopub.execute_input": "2024-03-06T22:43:14.741730Z",
     "iopub.status.busy": "2024-03-06T22:43:14.741071Z",
     "iopub.status.idle": "2024-03-06T22:43:14.762420Z",
     "shell.execute_reply": "2024-03-06T22:43:14.761260Z"
    },
    "papermill": {
     "duration": 0.041456,
     "end_time": "2024-03-06T22:43:14.764901",
     "exception": false,
     "start_time": "2024-03-06T22:43:14.723445",
     "status": "completed"
    },
    "tags": []
   },
   "outputs": [
    {
     "data": {
      "text/html": [
       "<div>\n",
       "<style scoped>\n",
       "    .dataframe tbody tr th:only-of-type {\n",
       "        vertical-align: middle;\n",
       "    }\n",
       "\n",
       "    .dataframe tbody tr th {\n",
       "        vertical-align: top;\n",
       "    }\n",
       "\n",
       "    .dataframe thead th {\n",
       "        text-align: right;\n",
       "    }\n",
       "</style>\n",
       "<table border=\"1\" class=\"dataframe\">\n",
       "  <thead>\n",
       "    <tr style=\"text-align: right;\">\n",
       "      <th></th>\n",
       "      <th>Q0_TOTAL_ASSETS</th>\n",
       "      <th>Q0_TOTAL_LIABILITIES</th>\n",
       "      <th>Q0_TOTAL_STOCKHOLDERS_EQUITY</th>\n",
       "      <th>Q0_GROSS_PROFIT</th>\n",
       "      <th>Q0_COST_OF_REVENUES</th>\n",
       "      <th>Q0_REVENUES</th>\n",
       "      <th>Q0_OPERATING_INCOME</th>\n",
       "      <th>Q0_OPERATING_EXPENSES</th>\n",
       "      <th>Q0_EBITDA</th>\n",
       "    </tr>\n",
       "  </thead>\n",
       "  <tbody>\n",
       "    <tr>\n",
       "      <th>0</th>\n",
       "      <td>1.192950e+09</td>\n",
       "      <td>1.055816e+09</td>\n",
       "      <td>1.371340e+08</td>\n",
       "      <td>25598000.0</td>\n",
       "      <td>6.189900e+07</td>\n",
       "      <td>4.299200e+07</td>\n",
       "      <td>1.522200e+07</td>\n",
       "      <td>10383000.0</td>\n",
       "      <td>15215000.0</td>\n",
       "    </tr>\n",
       "    <tr>\n",
       "      <th>1</th>\n",
       "      <td>1.219954e+09</td>\n",
       "      <td>8.350460e+08</td>\n",
       "      <td>3.849080e+08</td>\n",
       "      <td>111786000.0</td>\n",
       "      <td>2.177960e+08</td>\n",
       "      <td>3.295820e+08</td>\n",
       "      <td>2.890800e+07</td>\n",
       "      <td>85522000.0</td>\n",
       "      <td>26264000.0</td>\n",
       "    </tr>\n",
       "    <tr>\n",
       "      <th>2</th>\n",
       "      <td>-1.358200e+11</td>\n",
       "      <td>-3.797200e+10</td>\n",
       "      <td>-9.784800e+10</td>\n",
       "      <td>-435000000.0</td>\n",
       "      <td>4.445000e+09</td>\n",
       "      <td>4.010000e+09</td>\n",
       "      <td>-1.472000e+09</td>\n",
       "      <td>219000000.0</td>\n",
       "      <td>-654000000.0</td>\n",
       "    </tr>\n",
       "    <tr>\n",
       "      <th>3</th>\n",
       "      <td>8.329800e+07</td>\n",
       "      <td>1.604000e+07</td>\n",
       "      <td>-3.163300e+07</td>\n",
       "      <td>494000.0</td>\n",
       "      <td>3.339000e+06</td>\n",
       "      <td>3.833000e+06</td>\n",
       "      <td>-1.234800e+07</td>\n",
       "      <td>12842000.0</td>\n",
       "      <td>-12348000.0</td>\n",
       "    </tr>\n",
       "    <tr>\n",
       "      <th>4</th>\n",
       "      <td>1.485460e+08</td>\n",
       "      <td>5.655500e+07</td>\n",
       "      <td>9.199100e+07</td>\n",
       "      <td>1761000.0</td>\n",
       "      <td>-2.375000e+06</td>\n",
       "      <td>-6.140000e+05</td>\n",
       "      <td>-1.009800e+07</td>\n",
       "      <td>11859000.0</td>\n",
       "      <td>-10098000.0</td>\n",
       "    </tr>\n",
       "  </tbody>\n",
       "</table>\n",
       "</div>"
      ],
      "text/plain": [
       "   Q0_TOTAL_ASSETS  Q0_TOTAL_LIABILITIES  Q0_TOTAL_STOCKHOLDERS_EQUITY  \\\n",
       "0     1.192950e+09          1.055816e+09                  1.371340e+08   \n",
       "1     1.219954e+09          8.350460e+08                  3.849080e+08   \n",
       "2    -1.358200e+11         -3.797200e+10                 -9.784800e+10   \n",
       "3     8.329800e+07          1.604000e+07                 -3.163300e+07   \n",
       "4     1.485460e+08          5.655500e+07                  9.199100e+07   \n",
       "\n",
       "   Q0_GROSS_PROFIT  Q0_COST_OF_REVENUES   Q0_REVENUES  Q0_OPERATING_INCOME  \\\n",
       "0       25598000.0         6.189900e+07  4.299200e+07         1.522200e+07   \n",
       "1      111786000.0         2.177960e+08  3.295820e+08         2.890800e+07   \n",
       "2     -435000000.0         4.445000e+09  4.010000e+09        -1.472000e+09   \n",
       "3         494000.0         3.339000e+06  3.833000e+06        -1.234800e+07   \n",
       "4        1761000.0        -2.375000e+06 -6.140000e+05        -1.009800e+07   \n",
       "\n",
       "   Q0_OPERATING_EXPENSES    Q0_EBITDA  \n",
       "0             10383000.0   15215000.0  \n",
       "1             85522000.0   26264000.0  \n",
       "2            219000000.0 -654000000.0  \n",
       "3             12842000.0  -12348000.0  \n",
       "4             11859000.0  -10098000.0  "
      ]
     },
     "execution_count": 29,
     "metadata": {},
     "output_type": "execute_result"
    }
   ],
   "source": [
    "targets.head() #TARGET VARIABLES DATASET"
   ]
  },
  {
   "cell_type": "code",
   "execution_count": 30,
   "id": "586592ce",
   "metadata": {
    "execution": {
     "iopub.execute_input": "2024-03-06T22:43:14.800573Z",
     "iopub.status.busy": "2024-03-06T22:43:14.799892Z",
     "iopub.status.idle": "2024-03-06T22:43:15.108563Z",
     "shell.execute_reply": "2024-03-06T22:43:15.107469Z"
    },
    "papermill": {
     "duration": 0.329572,
     "end_time": "2024-03-06T22:43:15.111359",
     "exception": false,
     "start_time": "2024-03-06T22:43:14.781787",
     "status": "completed"
    },
    "tags": []
   },
   "outputs": [],
   "source": [
    "from xgboost import XGBRegressor\n",
    "from sklearn.model_selection import cross_val_score as cvs"
   ]
  },
  {
   "cell_type": "code",
   "execution_count": 31,
   "id": "bbb45778",
   "metadata": {
    "execution": {
     "iopub.execute_input": "2024-03-06T22:43:15.146606Z",
     "iopub.status.busy": "2024-03-06T22:43:15.146137Z",
     "iopub.status.idle": "2024-03-06T22:43:15.151345Z",
     "shell.execute_reply": "2024-03-06T22:43:15.150179Z"
    },
    "papermill": {
     "duration": 0.025772,
     "end_time": "2024-03-06T22:43:15.153720",
     "exception": false,
     "start_time": "2024-03-06T22:43:15.127948",
     "status": "completed"
    },
    "tags": []
   },
   "outputs": [],
   "source": [
    "model = XGBRegressor()"
   ]
  },
  {
   "cell_type": "code",
   "execution_count": 32,
   "id": "ea47d13a",
   "metadata": {
    "execution": {
     "iopub.execute_input": "2024-03-06T22:43:15.190215Z",
     "iopub.status.busy": "2024-03-06T22:43:15.189561Z",
     "iopub.status.idle": "2024-03-06T22:43:38.119609Z",
     "shell.execute_reply": "2024-03-06T22:43:38.118578Z"
    },
    "papermill": {
     "duration": 22.951748,
     "end_time": "2024-03-06T22:43:38.122208",
     "exception": false,
     "start_time": "2024-03-06T22:43:15.170460",
     "status": "completed"
    },
    "tags": []
   },
   "outputs": [
    {
     "name": "stdout",
     "output_type": "stream",
     "text": [
      "Finished train/predict for: Q0_TOTAL_ASSETS\n",
      "Finished train/predict for: Q0_TOTAL_LIABILITIES\n",
      "Finished train/predict for: Q0_TOTAL_STOCKHOLDERS_EQUITY\n",
      "Finished train/predict for: Q0_GROSS_PROFIT\n",
      "Finished train/predict for: Q0_COST_OF_REVENUES\n",
      "Finished train/predict for: Q0_REVENUES\n",
      "Finished train/predict for: Q0_OPERATING_INCOME\n",
      "Finished train/predict for: Q0_OPERATING_EXPENSES\n",
      "Finished train/predict for: Q0_EBITDA\n"
     ]
    }
   ],
   "source": [
    "preds = {}\n",
    "for target in targets:\n",
    "    model.fit(train, targets[target])\n",
    "    pred = model.predict(test)\n",
    "    preds[target] = pred\n",
    "    print(f'Finished train/predict for: {target}')"
   ]
  },
  {
   "cell_type": "code",
   "execution_count": 33,
   "id": "fe31587e",
   "metadata": {
    "execution": {
     "iopub.execute_input": "2024-03-06T22:43:38.160371Z",
     "iopub.status.busy": "2024-03-06T22:43:38.159910Z",
     "iopub.status.idle": "2024-03-06T22:47:15.912939Z",
     "shell.execute_reply": "2024-03-06T22:47:15.911837Z"
    },
    "papermill": {
     "duration": 217.774751,
     "end_time": "2024-03-06T22:47:15.915705",
     "exception": false,
     "start_time": "2024-03-06T22:43:38.140954",
     "status": "completed"
    },
    "tags": []
   },
   "outputs": [
    {
     "name": "stdout",
     "output_type": "stream",
     "text": [
      "CROSS VALIDATION R2 SCORES FOR EACH TARGET:\n",
      "\n",
      "Q0_TOTAL_ASSETS -> 0.8\n",
      "Q0_TOTAL_LIABILITIES -> 0.58\n",
      "Q0_TOTAL_STOCKHOLDERS_EQUITY -> 0.91\n",
      "Q0_GROSS_PROFIT -> 0.89\n",
      "Q0_COST_OF_REVENUES -> 0.9\n",
      "Q0_REVENUES -> 0.95\n",
      "Q0_OPERATING_INCOME -> 0.77\n",
      "Q0_OPERATING_EXPENSES -> 0.89\n",
      "Q0_EBITDA -> 0.12\n",
      "\n",
      "MEAN R2 SCORE ACROSS ALL TARGETS: 0.7566666666666666\n"
     ]
    }
   ],
   "source": [
    "print('CROSS VALIDATION R2 SCORES FOR EACH TARGET:\\n')\n",
    "cross_val_score_results = {}\n",
    "for target in targets:\n",
    "    score = np.round(np.mean(cvs(model, train, targets[target], cv=10, scoring='r2')),2)\n",
    "    cross_val_score_results[target] = score\n",
    "    print(f'{target} -> {score}')\n",
    "print(f'\\nMEAN R2 SCORE ACROSS ALL TARGETS: {np.mean(list(cross_val_score_results.values()))}')"
   ]
  },
  {
   "cell_type": "code",
   "execution_count": 34,
   "id": "d58d91b3",
   "metadata": {
    "execution": {
     "iopub.execute_input": "2024-03-06T22:47:15.955755Z",
     "iopub.status.busy": "2024-03-06T22:47:15.955366Z",
     "iopub.status.idle": "2024-03-06T22:47:15.974527Z",
     "shell.execute_reply": "2024-03-06T22:47:15.973399Z"
    },
    "papermill": {
     "duration": 0.041843,
     "end_time": "2024-03-06T22:47:15.977246",
     "exception": false,
     "start_time": "2024-03-06T22:47:15.935403",
     "status": "completed"
    },
    "tags": []
   },
   "outputs": [],
   "source": [
    "sub = pd.read_csv('/kaggle/input/financial-performance-prediction/sample_submission.csv')"
   ]
  },
  {
   "cell_type": "code",
   "execution_count": 35,
   "id": "f57a0b98",
   "metadata": {
    "execution": {
     "iopub.execute_input": "2024-03-06T22:47:16.017914Z",
     "iopub.status.busy": "2024-03-06T22:47:16.017524Z",
     "iopub.status.idle": "2024-03-06T22:47:16.026611Z",
     "shell.execute_reply": "2024-03-06T22:47:16.025462Z"
    },
    "papermill": {
     "duration": 0.032859,
     "end_time": "2024-03-06T22:47:16.029213",
     "exception": false,
     "start_time": "2024-03-06T22:47:15.996354",
     "status": "completed"
    },
    "tags": []
   },
   "outputs": [
    {
     "data": {
      "text/plain": [
       "0      True\n",
       "1      True\n",
       "2      True\n",
       "3      True\n",
       "4      True\n",
       "       ... \n",
       "401    True\n",
       "402    True\n",
       "403    True\n",
       "404    True\n",
       "405    True\n",
       "Name: Id, Length: 406, dtype: bool"
      ]
     },
     "execution_count": 35,
     "metadata": {},
     "output_type": "execute_result"
    }
   ],
   "source": [
    "#SANITY CHECK\n",
    "sub.Id == test.Id"
   ]
  },
  {
   "cell_type": "code",
   "execution_count": 36,
   "id": "afacdcdb",
   "metadata": {
    "execution": {
     "iopub.execute_input": "2024-03-06T22:47:16.069605Z",
     "iopub.status.busy": "2024-03-06T22:47:16.069227Z",
     "iopub.status.idle": "2024-03-06T22:47:16.092173Z",
     "shell.execute_reply": "2024-03-06T22:47:16.090953Z"
    },
    "papermill": {
     "duration": 0.046598,
     "end_time": "2024-03-06T22:47:16.094999",
     "exception": false,
     "start_time": "2024-03-06T22:47:16.048401",
     "status": "completed"
    },
    "tags": []
   },
   "outputs": [
    {
     "data": {
      "text/html": [
       "<div>\n",
       "<style scoped>\n",
       "    .dataframe tbody tr th:only-of-type {\n",
       "        vertical-align: middle;\n",
       "    }\n",
       "\n",
       "    .dataframe tbody tr th {\n",
       "        vertical-align: top;\n",
       "    }\n",
       "\n",
       "    .dataframe thead th {\n",
       "        text-align: right;\n",
       "    }\n",
       "</style>\n",
       "<table border=\"1\" class=\"dataframe\">\n",
       "  <thead>\n",
       "    <tr style=\"text-align: right;\">\n",
       "      <th></th>\n",
       "      <th>Id</th>\n",
       "      <th>Q0_REVENUES</th>\n",
       "      <th>Q0_COST_OF_REVENUES</th>\n",
       "      <th>Q0_GROSS_PROFIT</th>\n",
       "      <th>Q0_OPERATING_EXPENSES</th>\n",
       "      <th>Q0_EBITDA</th>\n",
       "      <th>Q0_OPERATING_INCOME</th>\n",
       "      <th>Q0_TOTAL_ASSETS</th>\n",
       "      <th>Q0_TOTAL_LIABILITIES</th>\n",
       "      <th>Q0_TOTAL_STOCKHOLDERS_EQUITY</th>\n",
       "    </tr>\n",
       "  </thead>\n",
       "  <tbody>\n",
       "    <tr>\n",
       "      <th>0</th>\n",
       "      <td>480</td>\n",
       "      <td>-1.940290e+06</td>\n",
       "      <td>-1.933074e+05</td>\n",
       "      <td>-1.348972e+05</td>\n",
       "      <td>-1.460389e+06</td>\n",
       "      <td>-2.177127e+06</td>\n",
       "      <td>-1.033935e+06</td>\n",
       "      <td>-2.328384e+07</td>\n",
       "      <td>6.309798e+06</td>\n",
       "      <td>2.079604e+05</td>\n",
       "    </tr>\n",
       "    <tr>\n",
       "      <th>1</th>\n",
       "      <td>573</td>\n",
       "      <td>5.487006e+08</td>\n",
       "      <td>3.259787e+08</td>\n",
       "      <td>2.153970e+08</td>\n",
       "      <td>1.134412e+08</td>\n",
       "      <td>1.335220e+08</td>\n",
       "      <td>1.773789e+07</td>\n",
       "      <td>3.641031e+09</td>\n",
       "      <td>1.894926e+09</td>\n",
       "      <td>3.702912e+08</td>\n",
       "    </tr>\n",
       "    <tr>\n",
       "      <th>2</th>\n",
       "      <td>1967</td>\n",
       "      <td>-2.054675e+07</td>\n",
       "      <td>1.157037e+07</td>\n",
       "      <td>-3.051085e+06</td>\n",
       "      <td>4.787868e+06</td>\n",
       "      <td>-3.278227e+06</td>\n",
       "      <td>-7.860118e+06</td>\n",
       "      <td>3.761247e+07</td>\n",
       "      <td>4.435038e+07</td>\n",
       "      <td>5.513024e+06</td>\n",
       "    </tr>\n",
       "    <tr>\n",
       "      <th>3</th>\n",
       "      <td>57</td>\n",
       "      <td>5.052865e+08</td>\n",
       "      <td>2.734435e+08</td>\n",
       "      <td>1.755245e+08</td>\n",
       "      <td>8.390578e+07</td>\n",
       "      <td>6.916058e+07</td>\n",
       "      <td>6.270552e+07</td>\n",
       "      <td>5.658756e+09</td>\n",
       "      <td>2.726792e+09</td>\n",
       "      <td>3.316880e+09</td>\n",
       "    </tr>\n",
       "    <tr>\n",
       "      <th>4</th>\n",
       "      <td>131</td>\n",
       "      <td>1.015055e+09</td>\n",
       "      <td>8.077940e+08</td>\n",
       "      <td>1.870518e+08</td>\n",
       "      <td>9.489115e+07</td>\n",
       "      <td>1.333217e+08</td>\n",
       "      <td>7.933154e+07</td>\n",
       "      <td>4.559058e+09</td>\n",
       "      <td>2.958353e+09</td>\n",
       "      <td>1.095777e+09</td>\n",
       "    </tr>\n",
       "  </tbody>\n",
       "</table>\n",
       "</div>"
      ],
      "text/plain": [
       "     Id   Q0_REVENUES  Q0_COST_OF_REVENUES  Q0_GROSS_PROFIT  \\\n",
       "0   480 -1.940290e+06        -1.933074e+05    -1.348972e+05   \n",
       "1   573  5.487006e+08         3.259787e+08     2.153970e+08   \n",
       "2  1967 -2.054675e+07         1.157037e+07    -3.051085e+06   \n",
       "3    57  5.052865e+08         2.734435e+08     1.755245e+08   \n",
       "4   131  1.015055e+09         8.077940e+08     1.870518e+08   \n",
       "\n",
       "   Q0_OPERATING_EXPENSES     Q0_EBITDA  Q0_OPERATING_INCOME  Q0_TOTAL_ASSETS  \\\n",
       "0          -1.460389e+06 -2.177127e+06        -1.033935e+06    -2.328384e+07   \n",
       "1           1.134412e+08  1.335220e+08         1.773789e+07     3.641031e+09   \n",
       "2           4.787868e+06 -3.278227e+06        -7.860118e+06     3.761247e+07   \n",
       "3           8.390578e+07  6.916058e+07         6.270552e+07     5.658756e+09   \n",
       "4           9.489115e+07  1.333217e+08         7.933154e+07     4.559058e+09   \n",
       "\n",
       "   Q0_TOTAL_LIABILITIES  Q0_TOTAL_STOCKHOLDERS_EQUITY  \n",
       "0          6.309798e+06                  2.079604e+05  \n",
       "1          1.894926e+09                  3.702912e+08  \n",
       "2          4.435038e+07                  5.513024e+06  \n",
       "3          2.726792e+09                  3.316880e+09  \n",
       "4          2.958353e+09                  1.095777e+09  "
      ]
     },
     "execution_count": 36,
     "metadata": {},
     "output_type": "execute_result"
    }
   ],
   "source": [
    "for target in preds:\n",
    "    sub[target] = preds[target]\n",
    "sub.head()"
   ]
  },
  {
   "cell_type": "code",
   "execution_count": 37,
   "id": "1306bb8e",
   "metadata": {
    "execution": {
     "iopub.execute_input": "2024-03-06T22:47:16.204826Z",
     "iopub.status.busy": "2024-03-06T22:47:16.204109Z",
     "iopub.status.idle": "2024-03-06T22:47:16.220316Z",
     "shell.execute_reply": "2024-03-06T22:47:16.219070Z"
    },
    "papermill": {
     "duration": 0.039921,
     "end_time": "2024-03-06T22:47:16.223108",
     "exception": false,
     "start_time": "2024-03-06T22:47:16.183187",
     "status": "completed"
    },
    "tags": []
   },
   "outputs": [],
   "source": [
    "sub.to_csv('submission.csv', index = False)"
   ]
  }
 ],
 "metadata": {
  "kaggle": {
   "accelerator": "none",
   "dataSources": [
    {
     "databundleVersionId": 7733789,
     "sourceId": 70781,
     "sourceType": "competition"
    }
   ],
   "dockerImageVersionId": 30664,
   "isGpuEnabled": false,
   "isInternetEnabled": true,
   "language": "python",
   "sourceType": "notebook"
  },
  "kernelspec": {
   "display_name": "Python 3",
   "language": "python",
   "name": "python3"
  },
  "language_info": {
   "codemirror_mode": {
    "name": "ipython",
    "version": 3
   },
   "file_extension": ".py",
   "mimetype": "text/x-python",
   "name": "python",
   "nbconvert_exporter": "python",
   "pygments_lexer": "ipython3",
   "version": "3.10.13"
  },
  "papermill": {
   "default_parameters": {},
   "duration": 249.743275,
   "end_time": "2024-03-06T22:47:16.965267",
   "environment_variables": {},
   "exception": null,
   "input_path": "__notebook__.ipynb",
   "output_path": "__notebook__.ipynb",
   "parameters": {},
   "start_time": "2024-03-06T22:43:07.221992",
   "version": "2.5.0"
  }
 },
 "nbformat": 4,
 "nbformat_minor": 5
}
